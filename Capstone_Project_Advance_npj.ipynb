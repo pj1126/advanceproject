{
  "nbformat": 4,
  "nbformat_minor": 0,
  "metadata": {
    "colab": {
      "provenance": []
    },
    "kernelspec": {
      "name": "python3",
      "display_name": "Python 3"
    },
    "language_info": {
      "name": "python"
    }
  },
  "cells": [
    {
      "cell_type": "markdown",
      "source": [
        "# **Data Background**\n",
        "2021 & 2022 submission data was cleaned and grouped by agents in the intermediate capstone project. "
      ],
      "metadata": {
        "id": "WQsWFrKRRT13"
      }
    },
    {
      "cell_type": "code",
      "source": [
        "import numpy as np\n",
        "import pandas as pd\n",
        "import matplotlib.pyplot as plt\n",
        "import seaborn as sns\n",
        "from collections import Counter"
      ],
      "metadata": {
        "id": "BG-LCPmA6dFs"
      },
      "execution_count": 1,
      "outputs": []
    },
    {
      "cell_type": "code",
      "execution_count": 2,
      "metadata": {
        "id": "4IYCSk0-RDkB"
      },
      "outputs": [],
      "source": [
        "data = pd.read_csv('/content/CLS22.csv', sep=',')"
      ]
    },
    {
      "cell_type": "markdown",
      "source": [
        "# **Data Exploration**"
      ],
      "metadata": {
        "id": "FNZmw17C6nxY"
      }
    },
    {
      "cell_type": "code",
      "source": [
        "data.head()"
      ],
      "metadata": {
        "colab": {
          "base_uri": "https://localhost:8080/",
          "height": 206
        },
        "id": "min5LswW50eV",
        "outputId": "f27d5129-b8d1-48b0-aa54-5f116f40751a"
      },
      "execution_count": 3,
      "outputs": [
        {
          "output_type": "execute_result",
          "data": {
            "text/plain": [
              "  AGENT_CODE  GAM_CODE  AGENT_JOIN_YEAR      REGION_NAME  AFYP_Regular  \\\n",
              "0   1EI00045  1EI00045             1994        KL REGION       1920.00   \n",
              "1   1EI00051  1EI00051             1998  NORTHERN REGION     183464.60   \n",
              "2   1EI00071  1EI00071             1991        KL REGION      56899.68   \n",
              "3   1EI00073  1EI04998             1989        KL REGION       1133.04   \n",
              "4   1EI00079  1EI00079             1987    SABAH REGION        6720.00   \n",
              "\n",
              "   AFYP_exclude_RTU  Cases  Average_Case_Size  \n",
              "0           1920.00      1        1920.000000  \n",
              "1         183344.60     60        3057.743333  \n",
              "2          55939.68     19        2994.720000  \n",
              "3           1133.04      2         566.520000  \n",
              "4           6480.00      4        1680.000000  "
            ],
            "text/html": [
              "\n",
              "  <div id=\"df-e6c6e05e-b9aa-4ed7-a8d8-2ca1eb7fe477\">\n",
              "    <div class=\"colab-df-container\">\n",
              "      <div>\n",
              "<style scoped>\n",
              "    .dataframe tbody tr th:only-of-type {\n",
              "        vertical-align: middle;\n",
              "    }\n",
              "\n",
              "    .dataframe tbody tr th {\n",
              "        vertical-align: top;\n",
              "    }\n",
              "\n",
              "    .dataframe thead th {\n",
              "        text-align: right;\n",
              "    }\n",
              "</style>\n",
              "<table border=\"1\" class=\"dataframe\">\n",
              "  <thead>\n",
              "    <tr style=\"text-align: right;\">\n",
              "      <th></th>\n",
              "      <th>AGENT_CODE</th>\n",
              "      <th>GAM_CODE</th>\n",
              "      <th>AGENT_JOIN_YEAR</th>\n",
              "      <th>REGION_NAME</th>\n",
              "      <th>AFYP_Regular</th>\n",
              "      <th>AFYP_exclude_RTU</th>\n",
              "      <th>Cases</th>\n",
              "      <th>Average_Case_Size</th>\n",
              "    </tr>\n",
              "  </thead>\n",
              "  <tbody>\n",
              "    <tr>\n",
              "      <th>0</th>\n",
              "      <td>1EI00045</td>\n",
              "      <td>1EI00045</td>\n",
              "      <td>1994</td>\n",
              "      <td>KL REGION</td>\n",
              "      <td>1920.00</td>\n",
              "      <td>1920.00</td>\n",
              "      <td>1</td>\n",
              "      <td>1920.000000</td>\n",
              "    </tr>\n",
              "    <tr>\n",
              "      <th>1</th>\n",
              "      <td>1EI00051</td>\n",
              "      <td>1EI00051</td>\n",
              "      <td>1998</td>\n",
              "      <td>NORTHERN REGION</td>\n",
              "      <td>183464.60</td>\n",
              "      <td>183344.60</td>\n",
              "      <td>60</td>\n",
              "      <td>3057.743333</td>\n",
              "    </tr>\n",
              "    <tr>\n",
              "      <th>2</th>\n",
              "      <td>1EI00071</td>\n",
              "      <td>1EI00071</td>\n",
              "      <td>1991</td>\n",
              "      <td>KL REGION</td>\n",
              "      <td>56899.68</td>\n",
              "      <td>55939.68</td>\n",
              "      <td>19</td>\n",
              "      <td>2994.720000</td>\n",
              "    </tr>\n",
              "    <tr>\n",
              "      <th>3</th>\n",
              "      <td>1EI00073</td>\n",
              "      <td>1EI04998</td>\n",
              "      <td>1989</td>\n",
              "      <td>KL REGION</td>\n",
              "      <td>1133.04</td>\n",
              "      <td>1133.04</td>\n",
              "      <td>2</td>\n",
              "      <td>566.520000</td>\n",
              "    </tr>\n",
              "    <tr>\n",
              "      <th>4</th>\n",
              "      <td>1EI00079</td>\n",
              "      <td>1EI00079</td>\n",
              "      <td>1987</td>\n",
              "      <td>SABAH REGION</td>\n",
              "      <td>6720.00</td>\n",
              "      <td>6480.00</td>\n",
              "      <td>4</td>\n",
              "      <td>1680.000000</td>\n",
              "    </tr>\n",
              "  </tbody>\n",
              "</table>\n",
              "</div>\n",
              "      <button class=\"colab-df-convert\" onclick=\"convertToInteractive('df-e6c6e05e-b9aa-4ed7-a8d8-2ca1eb7fe477')\"\n",
              "              title=\"Convert this dataframe to an interactive table.\"\n",
              "              style=\"display:none;\">\n",
              "        \n",
              "  <svg xmlns=\"http://www.w3.org/2000/svg\" height=\"24px\"viewBox=\"0 0 24 24\"\n",
              "       width=\"24px\">\n",
              "    <path d=\"M0 0h24v24H0V0z\" fill=\"none\"/>\n",
              "    <path d=\"M18.56 5.44l.94 2.06.94-2.06 2.06-.94-2.06-.94-.94-2.06-.94 2.06-2.06.94zm-11 1L8.5 8.5l.94-2.06 2.06-.94-2.06-.94L8.5 2.5l-.94 2.06-2.06.94zm10 10l.94 2.06.94-2.06 2.06-.94-2.06-.94-.94-2.06-.94 2.06-2.06.94z\"/><path d=\"M17.41 7.96l-1.37-1.37c-.4-.4-.92-.59-1.43-.59-.52 0-1.04.2-1.43.59L10.3 9.45l-7.72 7.72c-.78.78-.78 2.05 0 2.83L4 21.41c.39.39.9.59 1.41.59.51 0 1.02-.2 1.41-.59l7.78-7.78 2.81-2.81c.8-.78.8-2.07 0-2.86zM5.41 20L4 18.59l7.72-7.72 1.47 1.35L5.41 20z\"/>\n",
              "  </svg>\n",
              "      </button>\n",
              "      \n",
              "  <style>\n",
              "    .colab-df-container {\n",
              "      display:flex;\n",
              "      flex-wrap:wrap;\n",
              "      gap: 12px;\n",
              "    }\n",
              "\n",
              "    .colab-df-convert {\n",
              "      background-color: #E8F0FE;\n",
              "      border: none;\n",
              "      border-radius: 50%;\n",
              "      cursor: pointer;\n",
              "      display: none;\n",
              "      fill: #1967D2;\n",
              "      height: 32px;\n",
              "      padding: 0 0 0 0;\n",
              "      width: 32px;\n",
              "    }\n",
              "\n",
              "    .colab-df-convert:hover {\n",
              "      background-color: #E2EBFA;\n",
              "      box-shadow: 0px 1px 2px rgba(60, 64, 67, 0.3), 0px 1px 3px 1px rgba(60, 64, 67, 0.15);\n",
              "      fill: #174EA6;\n",
              "    }\n",
              "\n",
              "    [theme=dark] .colab-df-convert {\n",
              "      background-color: #3B4455;\n",
              "      fill: #D2E3FC;\n",
              "    }\n",
              "\n",
              "    [theme=dark] .colab-df-convert:hover {\n",
              "      background-color: #434B5C;\n",
              "      box-shadow: 0px 1px 3px 1px rgba(0, 0, 0, 0.15);\n",
              "      filter: drop-shadow(0px 1px 2px rgba(0, 0, 0, 0.3));\n",
              "      fill: #FFFFFF;\n",
              "    }\n",
              "  </style>\n",
              "\n",
              "      <script>\n",
              "        const buttonEl =\n",
              "          document.querySelector('#df-e6c6e05e-b9aa-4ed7-a8d8-2ca1eb7fe477 button.colab-df-convert');\n",
              "        buttonEl.style.display =\n",
              "          google.colab.kernel.accessAllowed ? 'block' : 'none';\n",
              "\n",
              "        async function convertToInteractive(key) {\n",
              "          const element = document.querySelector('#df-e6c6e05e-b9aa-4ed7-a8d8-2ca1eb7fe477');\n",
              "          const dataTable =\n",
              "            await google.colab.kernel.invokeFunction('convertToInteractive',\n",
              "                                                     [key], {});\n",
              "          if (!dataTable) return;\n",
              "\n",
              "          const docLinkHtml = 'Like what you see? Visit the ' +\n",
              "            '<a target=\"_blank\" href=https://colab.research.google.com/notebooks/data_table.ipynb>data table notebook</a>'\n",
              "            + ' to learn more about interactive tables.';\n",
              "          element.innerHTML = '';\n",
              "          dataTable['output_type'] = 'display_data';\n",
              "          await google.colab.output.renderOutput(dataTable, element);\n",
              "          const docLink = document.createElement('div');\n",
              "          docLink.innerHTML = docLinkHtml;\n",
              "          element.appendChild(docLink);\n",
              "        }\n",
              "      </script>\n",
              "    </div>\n",
              "  </div>\n",
              "  "
            ]
          },
          "metadata": {},
          "execution_count": 3
        }
      ]
    },
    {
      "cell_type": "code",
      "source": [
        "data.info()"
      ],
      "metadata": {
        "colab": {
          "base_uri": "https://localhost:8080/"
        },
        "id": "1AYhqAtKG39k",
        "outputId": "1526881e-317d-43fb-e1f2-9203aba3ba05"
      },
      "execution_count": 4,
      "outputs": [
        {
          "output_type": "stream",
          "name": "stdout",
          "text": [
            "<class 'pandas.core.frame.DataFrame'>\n",
            "RangeIndex: 414 entries, 0 to 413\n",
            "Data columns (total 8 columns):\n",
            " #   Column             Non-Null Count  Dtype  \n",
            "---  ------             --------------  -----  \n",
            " 0   AGENT_CODE         414 non-null    object \n",
            " 1   GAM_CODE           414 non-null    object \n",
            " 2   AGENT_JOIN_YEAR    414 non-null    int64  \n",
            " 3   REGION_NAME        414 non-null    object \n",
            " 4   AFYP_Regular       414 non-null    float64\n",
            " 5   AFYP_exclude_RTU   414 non-null    float64\n",
            " 6   Cases              414 non-null    int64  \n",
            " 7   Average_Case_Size  414 non-null    float64\n",
            "dtypes: float64(3), int64(2), object(3)\n",
            "memory usage: 26.0+ KB\n"
          ]
        }
      ]
    },
    {
      "cell_type": "code",
      "source": [
        "data.describe()"
      ],
      "metadata": {
        "colab": {
          "base_uri": "https://localhost:8080/",
          "height": 300
        },
        "id": "36XOgTORHDdx",
        "outputId": "ff031cc8-8d72-4f93-8517-a08594132521"
      },
      "execution_count": 5,
      "outputs": [
        {
          "output_type": "execute_result",
          "data": {
            "text/plain": [
              "       AGENT_JOIN_YEAR  AFYP_Regular  AFYP_exclude_RTU       Cases  \\\n",
              "count       414.000000  4.140000e+02      4.140000e+02  414.000000   \n",
              "mean       2016.159420  7.806675e+04      6.190762e+04   15.838164   \n",
              "std           8.652209  1.834505e+05      1.161710e+05   24.850456   \n",
              "min        1983.000000  0.000000e+00      0.000000e+00    1.000000   \n",
              "25%        2016.000000  6.873000e+03      6.279193e+03    3.000000   \n",
              "50%        2020.000000  2.040000e+04      1.805000e+04    6.500000   \n",
              "75%        2022.000000  6.034569e+04      5.759100e+04   17.000000   \n",
              "max        2022.000000  2.031549e+06      1.172589e+06  169.000000   \n",
              "\n",
              "       Average_Case_Size  \n",
              "count         414.000000  \n",
              "mean         6192.978041  \n",
              "std         25436.361890  \n",
              "min             0.000000  \n",
              "25%          2255.000000  \n",
              "50%          2760.000000  \n",
              "75%          3865.000000  \n",
              "max        336000.000000  "
            ],
            "text/html": [
              "\n",
              "  <div id=\"df-801f275e-afd9-4ae3-be02-1361099ff14c\">\n",
              "    <div class=\"colab-df-container\">\n",
              "      <div>\n",
              "<style scoped>\n",
              "    .dataframe tbody tr th:only-of-type {\n",
              "        vertical-align: middle;\n",
              "    }\n",
              "\n",
              "    .dataframe tbody tr th {\n",
              "        vertical-align: top;\n",
              "    }\n",
              "\n",
              "    .dataframe thead th {\n",
              "        text-align: right;\n",
              "    }\n",
              "</style>\n",
              "<table border=\"1\" class=\"dataframe\">\n",
              "  <thead>\n",
              "    <tr style=\"text-align: right;\">\n",
              "      <th></th>\n",
              "      <th>AGENT_JOIN_YEAR</th>\n",
              "      <th>AFYP_Regular</th>\n",
              "      <th>AFYP_exclude_RTU</th>\n",
              "      <th>Cases</th>\n",
              "      <th>Average_Case_Size</th>\n",
              "    </tr>\n",
              "  </thead>\n",
              "  <tbody>\n",
              "    <tr>\n",
              "      <th>count</th>\n",
              "      <td>414.000000</td>\n",
              "      <td>4.140000e+02</td>\n",
              "      <td>4.140000e+02</td>\n",
              "      <td>414.000000</td>\n",
              "      <td>414.000000</td>\n",
              "    </tr>\n",
              "    <tr>\n",
              "      <th>mean</th>\n",
              "      <td>2016.159420</td>\n",
              "      <td>7.806675e+04</td>\n",
              "      <td>6.190762e+04</td>\n",
              "      <td>15.838164</td>\n",
              "      <td>6192.978041</td>\n",
              "    </tr>\n",
              "    <tr>\n",
              "      <th>std</th>\n",
              "      <td>8.652209</td>\n",
              "      <td>1.834505e+05</td>\n",
              "      <td>1.161710e+05</td>\n",
              "      <td>24.850456</td>\n",
              "      <td>25436.361890</td>\n",
              "    </tr>\n",
              "    <tr>\n",
              "      <th>min</th>\n",
              "      <td>1983.000000</td>\n",
              "      <td>0.000000e+00</td>\n",
              "      <td>0.000000e+00</td>\n",
              "      <td>1.000000</td>\n",
              "      <td>0.000000</td>\n",
              "    </tr>\n",
              "    <tr>\n",
              "      <th>25%</th>\n",
              "      <td>2016.000000</td>\n",
              "      <td>6.873000e+03</td>\n",
              "      <td>6.279193e+03</td>\n",
              "      <td>3.000000</td>\n",
              "      <td>2255.000000</td>\n",
              "    </tr>\n",
              "    <tr>\n",
              "      <th>50%</th>\n",
              "      <td>2020.000000</td>\n",
              "      <td>2.040000e+04</td>\n",
              "      <td>1.805000e+04</td>\n",
              "      <td>6.500000</td>\n",
              "      <td>2760.000000</td>\n",
              "    </tr>\n",
              "    <tr>\n",
              "      <th>75%</th>\n",
              "      <td>2022.000000</td>\n",
              "      <td>6.034569e+04</td>\n",
              "      <td>5.759100e+04</td>\n",
              "      <td>17.000000</td>\n",
              "      <td>3865.000000</td>\n",
              "    </tr>\n",
              "    <tr>\n",
              "      <th>max</th>\n",
              "      <td>2022.000000</td>\n",
              "      <td>2.031549e+06</td>\n",
              "      <td>1.172589e+06</td>\n",
              "      <td>169.000000</td>\n",
              "      <td>336000.000000</td>\n",
              "    </tr>\n",
              "  </tbody>\n",
              "</table>\n",
              "</div>\n",
              "      <button class=\"colab-df-convert\" onclick=\"convertToInteractive('df-801f275e-afd9-4ae3-be02-1361099ff14c')\"\n",
              "              title=\"Convert this dataframe to an interactive table.\"\n",
              "              style=\"display:none;\">\n",
              "        \n",
              "  <svg xmlns=\"http://www.w3.org/2000/svg\" height=\"24px\"viewBox=\"0 0 24 24\"\n",
              "       width=\"24px\">\n",
              "    <path d=\"M0 0h24v24H0V0z\" fill=\"none\"/>\n",
              "    <path d=\"M18.56 5.44l.94 2.06.94-2.06 2.06-.94-2.06-.94-.94-2.06-.94 2.06-2.06.94zm-11 1L8.5 8.5l.94-2.06 2.06-.94-2.06-.94L8.5 2.5l-.94 2.06-2.06.94zm10 10l.94 2.06.94-2.06 2.06-.94-2.06-.94-.94-2.06-.94 2.06-2.06.94z\"/><path d=\"M17.41 7.96l-1.37-1.37c-.4-.4-.92-.59-1.43-.59-.52 0-1.04.2-1.43.59L10.3 9.45l-7.72 7.72c-.78.78-.78 2.05 0 2.83L4 21.41c.39.39.9.59 1.41.59.51 0 1.02-.2 1.41-.59l7.78-7.78 2.81-2.81c.8-.78.8-2.07 0-2.86zM5.41 20L4 18.59l7.72-7.72 1.47 1.35L5.41 20z\"/>\n",
              "  </svg>\n",
              "      </button>\n",
              "      \n",
              "  <style>\n",
              "    .colab-df-container {\n",
              "      display:flex;\n",
              "      flex-wrap:wrap;\n",
              "      gap: 12px;\n",
              "    }\n",
              "\n",
              "    .colab-df-convert {\n",
              "      background-color: #E8F0FE;\n",
              "      border: none;\n",
              "      border-radius: 50%;\n",
              "      cursor: pointer;\n",
              "      display: none;\n",
              "      fill: #1967D2;\n",
              "      height: 32px;\n",
              "      padding: 0 0 0 0;\n",
              "      width: 32px;\n",
              "    }\n",
              "\n",
              "    .colab-df-convert:hover {\n",
              "      background-color: #E2EBFA;\n",
              "      box-shadow: 0px 1px 2px rgba(60, 64, 67, 0.3), 0px 1px 3px 1px rgba(60, 64, 67, 0.15);\n",
              "      fill: #174EA6;\n",
              "    }\n",
              "\n",
              "    [theme=dark] .colab-df-convert {\n",
              "      background-color: #3B4455;\n",
              "      fill: #D2E3FC;\n",
              "    }\n",
              "\n",
              "    [theme=dark] .colab-df-convert:hover {\n",
              "      background-color: #434B5C;\n",
              "      box-shadow: 0px 1px 3px 1px rgba(0, 0, 0, 0.15);\n",
              "      filter: drop-shadow(0px 1px 2px rgba(0, 0, 0, 0.3));\n",
              "      fill: #FFFFFF;\n",
              "    }\n",
              "  </style>\n",
              "\n",
              "      <script>\n",
              "        const buttonEl =\n",
              "          document.querySelector('#df-801f275e-afd9-4ae3-be02-1361099ff14c button.colab-df-convert');\n",
              "        buttonEl.style.display =\n",
              "          google.colab.kernel.accessAllowed ? 'block' : 'none';\n",
              "\n",
              "        async function convertToInteractive(key) {\n",
              "          const element = document.querySelector('#df-801f275e-afd9-4ae3-be02-1361099ff14c');\n",
              "          const dataTable =\n",
              "            await google.colab.kernel.invokeFunction('convertToInteractive',\n",
              "                                                     [key], {});\n",
              "          if (!dataTable) return;\n",
              "\n",
              "          const docLinkHtml = 'Like what you see? Visit the ' +\n",
              "            '<a target=\"_blank\" href=https://colab.research.google.com/notebooks/data_table.ipynb>data table notebook</a>'\n",
              "            + ' to learn more about interactive tables.';\n",
              "          element.innerHTML = '';\n",
              "          dataTable['output_type'] = 'display_data';\n",
              "          await google.colab.output.renderOutput(dataTable, element);\n",
              "          const docLink = document.createElement('div');\n",
              "          docLink.innerHTML = docLinkHtml;\n",
              "          element.appendChild(docLink);\n",
              "        }\n",
              "      </script>\n",
              "    </div>\n",
              "  </div>\n",
              "  "
            ]
          },
          "metadata": {},
          "execution_count": 5
        }
      ]
    },
    {
      "cell_type": "code",
      "source": [
        "data.shape # total 414 agents"
      ],
      "metadata": {
        "colab": {
          "base_uri": "https://localhost:8080/"
        },
        "id": "b3m09BMiHEml",
        "outputId": "cd59d83d-684e-4ab3-fe5c-c719907be835"
      },
      "execution_count": 6,
      "outputs": [
        {
          "output_type": "execute_result",
          "data": {
            "text/plain": [
              "(414, 8)"
            ]
          },
          "metadata": {},
          "execution_count": 6
        }
      ]
    },
    {
      "cell_type": "code",
      "source": [
        "data.columns"
      ],
      "metadata": {
        "colab": {
          "base_uri": "https://localhost:8080/"
        },
        "id": "CW0gQB7BHJh0",
        "outputId": "aaa44949-e9c8-4a20-e1f2-03b3144a3b3e"
      },
      "execution_count": 7,
      "outputs": [
        {
          "output_type": "execute_result",
          "data": {
            "text/plain": [
              "Index(['AGENT_CODE', 'GAM_CODE', 'AGENT_JOIN_YEAR', 'REGION_NAME',\n",
              "       'AFYP_Regular', 'AFYP_exclude_RTU', 'Cases', 'Average_Case_Size'],\n",
              "      dtype='object')"
            ]
          },
          "metadata": {},
          "execution_count": 7
        }
      ]
    },
    {
      "cell_type": "markdown",
      "source": [
        "# **Data Cleaning**\n",
        "\n",
        "**Handling Missing Values**"
      ],
      "metadata": {
        "id": "d83cPRR1IOkE"
      }
    },
    {
      "cell_type": "code",
      "source": [
        "#check for missing values, no missing values\n",
        "data.isnull().sum()"
      ],
      "metadata": {
        "colab": {
          "base_uri": "https://localhost:8080/"
        },
        "id": "PYJCZbM9H1zY",
        "outputId": "1f592b2d-e19b-413f-c9d7-914742baf1fe"
      },
      "execution_count": 8,
      "outputs": [
        {
          "output_type": "execute_result",
          "data": {
            "text/plain": [
              "AGENT_CODE           0\n",
              "GAM_CODE             0\n",
              "AGENT_JOIN_YEAR      0\n",
              "REGION_NAME          0\n",
              "AFYP_Regular         0\n",
              "AFYP_exclude_RTU     0\n",
              "Cases                0\n",
              "Average_Case_Size    0\n",
              "dtype: int64"
            ]
          },
          "metadata": {},
          "execution_count": 8
        }
      ]
    },
    {
      "cell_type": "code",
      "source": [
        "#add on column to categorise agents as High, Low. This will be the Target Column.\n",
        "\n",
        "# create conditions\n",
        "conditions = [\n",
        "    (data['AFYP_Regular'] <= 100000),\n",
        "    (data['AFYP_Regular'] > 100000)\n",
        "    ]\n",
        "\n",
        "# create a list of the values assign for each condition\n",
        "values = ['Low', 'High']\n",
        "\n",
        "# create a new column and assign values to it\n",
        "data['Agent_Category'] = np.select(conditions, values)\n",
        "\n",
        "data.head()"
      ],
      "metadata": {
        "colab": {
          "base_uri": "https://localhost:8080/",
          "height": 206
        },
        "id": "tDw_DkgoHQLm",
        "outputId": "500c0b04-ab31-44aa-c217-ab609d191d4d"
      },
      "execution_count": 9,
      "outputs": [
        {
          "output_type": "execute_result",
          "data": {
            "text/plain": [
              "  AGENT_CODE  GAM_CODE  AGENT_JOIN_YEAR      REGION_NAME  AFYP_Regular  \\\n",
              "0   1EI00045  1EI00045             1994        KL REGION       1920.00   \n",
              "1   1EI00051  1EI00051             1998  NORTHERN REGION     183464.60   \n",
              "2   1EI00071  1EI00071             1991        KL REGION      56899.68   \n",
              "3   1EI00073  1EI04998             1989        KL REGION       1133.04   \n",
              "4   1EI00079  1EI00079             1987    SABAH REGION        6720.00   \n",
              "\n",
              "   AFYP_exclude_RTU  Cases  Average_Case_Size Agent_Category  \n",
              "0           1920.00      1        1920.000000            Low  \n",
              "1         183344.60     60        3057.743333           High  \n",
              "2          55939.68     19        2994.720000            Low  \n",
              "3           1133.04      2         566.520000            Low  \n",
              "4           6480.00      4        1680.000000            Low  "
            ],
            "text/html": [
              "\n",
              "  <div id=\"df-99085f7d-da69-4da0-bb77-9f9ca9c4d6c5\">\n",
              "    <div class=\"colab-df-container\">\n",
              "      <div>\n",
              "<style scoped>\n",
              "    .dataframe tbody tr th:only-of-type {\n",
              "        vertical-align: middle;\n",
              "    }\n",
              "\n",
              "    .dataframe tbody tr th {\n",
              "        vertical-align: top;\n",
              "    }\n",
              "\n",
              "    .dataframe thead th {\n",
              "        text-align: right;\n",
              "    }\n",
              "</style>\n",
              "<table border=\"1\" class=\"dataframe\">\n",
              "  <thead>\n",
              "    <tr style=\"text-align: right;\">\n",
              "      <th></th>\n",
              "      <th>AGENT_CODE</th>\n",
              "      <th>GAM_CODE</th>\n",
              "      <th>AGENT_JOIN_YEAR</th>\n",
              "      <th>REGION_NAME</th>\n",
              "      <th>AFYP_Regular</th>\n",
              "      <th>AFYP_exclude_RTU</th>\n",
              "      <th>Cases</th>\n",
              "      <th>Average_Case_Size</th>\n",
              "      <th>Agent_Category</th>\n",
              "    </tr>\n",
              "  </thead>\n",
              "  <tbody>\n",
              "    <tr>\n",
              "      <th>0</th>\n",
              "      <td>1EI00045</td>\n",
              "      <td>1EI00045</td>\n",
              "      <td>1994</td>\n",
              "      <td>KL REGION</td>\n",
              "      <td>1920.00</td>\n",
              "      <td>1920.00</td>\n",
              "      <td>1</td>\n",
              "      <td>1920.000000</td>\n",
              "      <td>Low</td>\n",
              "    </tr>\n",
              "    <tr>\n",
              "      <th>1</th>\n",
              "      <td>1EI00051</td>\n",
              "      <td>1EI00051</td>\n",
              "      <td>1998</td>\n",
              "      <td>NORTHERN REGION</td>\n",
              "      <td>183464.60</td>\n",
              "      <td>183344.60</td>\n",
              "      <td>60</td>\n",
              "      <td>3057.743333</td>\n",
              "      <td>High</td>\n",
              "    </tr>\n",
              "    <tr>\n",
              "      <th>2</th>\n",
              "      <td>1EI00071</td>\n",
              "      <td>1EI00071</td>\n",
              "      <td>1991</td>\n",
              "      <td>KL REGION</td>\n",
              "      <td>56899.68</td>\n",
              "      <td>55939.68</td>\n",
              "      <td>19</td>\n",
              "      <td>2994.720000</td>\n",
              "      <td>Low</td>\n",
              "    </tr>\n",
              "    <tr>\n",
              "      <th>3</th>\n",
              "      <td>1EI00073</td>\n",
              "      <td>1EI04998</td>\n",
              "      <td>1989</td>\n",
              "      <td>KL REGION</td>\n",
              "      <td>1133.04</td>\n",
              "      <td>1133.04</td>\n",
              "      <td>2</td>\n",
              "      <td>566.520000</td>\n",
              "      <td>Low</td>\n",
              "    </tr>\n",
              "    <tr>\n",
              "      <th>4</th>\n",
              "      <td>1EI00079</td>\n",
              "      <td>1EI00079</td>\n",
              "      <td>1987</td>\n",
              "      <td>SABAH REGION</td>\n",
              "      <td>6720.00</td>\n",
              "      <td>6480.00</td>\n",
              "      <td>4</td>\n",
              "      <td>1680.000000</td>\n",
              "      <td>Low</td>\n",
              "    </tr>\n",
              "  </tbody>\n",
              "</table>\n",
              "</div>\n",
              "      <button class=\"colab-df-convert\" onclick=\"convertToInteractive('df-99085f7d-da69-4da0-bb77-9f9ca9c4d6c5')\"\n",
              "              title=\"Convert this dataframe to an interactive table.\"\n",
              "              style=\"display:none;\">\n",
              "        \n",
              "  <svg xmlns=\"http://www.w3.org/2000/svg\" height=\"24px\"viewBox=\"0 0 24 24\"\n",
              "       width=\"24px\">\n",
              "    <path d=\"M0 0h24v24H0V0z\" fill=\"none\"/>\n",
              "    <path d=\"M18.56 5.44l.94 2.06.94-2.06 2.06-.94-2.06-.94-.94-2.06-.94 2.06-2.06.94zm-11 1L8.5 8.5l.94-2.06 2.06-.94-2.06-.94L8.5 2.5l-.94 2.06-2.06.94zm10 10l.94 2.06.94-2.06 2.06-.94-2.06-.94-.94-2.06-.94 2.06-2.06.94z\"/><path d=\"M17.41 7.96l-1.37-1.37c-.4-.4-.92-.59-1.43-.59-.52 0-1.04.2-1.43.59L10.3 9.45l-7.72 7.72c-.78.78-.78 2.05 0 2.83L4 21.41c.39.39.9.59 1.41.59.51 0 1.02-.2 1.41-.59l7.78-7.78 2.81-2.81c.8-.78.8-2.07 0-2.86zM5.41 20L4 18.59l7.72-7.72 1.47 1.35L5.41 20z\"/>\n",
              "  </svg>\n",
              "      </button>\n",
              "      \n",
              "  <style>\n",
              "    .colab-df-container {\n",
              "      display:flex;\n",
              "      flex-wrap:wrap;\n",
              "      gap: 12px;\n",
              "    }\n",
              "\n",
              "    .colab-df-convert {\n",
              "      background-color: #E8F0FE;\n",
              "      border: none;\n",
              "      border-radius: 50%;\n",
              "      cursor: pointer;\n",
              "      display: none;\n",
              "      fill: #1967D2;\n",
              "      height: 32px;\n",
              "      padding: 0 0 0 0;\n",
              "      width: 32px;\n",
              "    }\n",
              "\n",
              "    .colab-df-convert:hover {\n",
              "      background-color: #E2EBFA;\n",
              "      box-shadow: 0px 1px 2px rgba(60, 64, 67, 0.3), 0px 1px 3px 1px rgba(60, 64, 67, 0.15);\n",
              "      fill: #174EA6;\n",
              "    }\n",
              "\n",
              "    [theme=dark] .colab-df-convert {\n",
              "      background-color: #3B4455;\n",
              "      fill: #D2E3FC;\n",
              "    }\n",
              "\n",
              "    [theme=dark] .colab-df-convert:hover {\n",
              "      background-color: #434B5C;\n",
              "      box-shadow: 0px 1px 3px 1px rgba(0, 0, 0, 0.15);\n",
              "      filter: drop-shadow(0px 1px 2px rgba(0, 0, 0, 0.3));\n",
              "      fill: #FFFFFF;\n",
              "    }\n",
              "  </style>\n",
              "\n",
              "      <script>\n",
              "        const buttonEl =\n",
              "          document.querySelector('#df-99085f7d-da69-4da0-bb77-9f9ca9c4d6c5 button.colab-df-convert');\n",
              "        buttonEl.style.display =\n",
              "          google.colab.kernel.accessAllowed ? 'block' : 'none';\n",
              "\n",
              "        async function convertToInteractive(key) {\n",
              "          const element = document.querySelector('#df-99085f7d-da69-4da0-bb77-9f9ca9c4d6c5');\n",
              "          const dataTable =\n",
              "            await google.colab.kernel.invokeFunction('convertToInteractive',\n",
              "                                                     [key], {});\n",
              "          if (!dataTable) return;\n",
              "\n",
              "          const docLinkHtml = 'Like what you see? Visit the ' +\n",
              "            '<a target=\"_blank\" href=https://colab.research.google.com/notebooks/data_table.ipynb>data table notebook</a>'\n",
              "            + ' to learn more about interactive tables.';\n",
              "          element.innerHTML = '';\n",
              "          dataTable['output_type'] = 'display_data';\n",
              "          await google.colab.output.renderOutput(dataTable, element);\n",
              "          const docLink = document.createElement('div');\n",
              "          docLink.innerHTML = docLinkHtml;\n",
              "          element.appendChild(docLink);\n",
              "        }\n",
              "      </script>\n",
              "    </div>\n",
              "  </div>\n",
              "  "
            ]
          },
          "metadata": {},
          "execution_count": 9
        }
      ]
    },
    {
      "cell_type": "code",
      "source": [
        "# Calculate agent experience\n",
        "\n",
        "data['AGENT_JOIN_YEAR'] = 2023 - data['AGENT_JOIN_YEAR']"
      ],
      "metadata": {
        "id": "DO0NGGsHltOO"
      },
      "execution_count": 10,
      "outputs": []
    },
    {
      "cell_type": "code",
      "source": [
        "# Rename AGENT_JOIN_YEAR to Agent_Experience\n",
        "data1 = data.rename(columns = {\"AGENT_JOIN_YEAR\":\"Agent_Experience\"} )\n",
        "data1.head(20)"
      ],
      "metadata": {
        "colab": {
          "base_uri": "https://localhost:8080/",
          "height": 676
        },
        "id": "WRg0QXQ5pNKV",
        "outputId": "9cc6863f-0e67-41a6-c340-0c9fc4ed56ac"
      },
      "execution_count": 11,
      "outputs": [
        {
          "output_type": "execute_result",
          "data": {
            "text/plain": [
              "   AGENT_CODE  GAM_CODE  Agent_Experience      REGION_NAME  AFYP_Regular  \\\n",
              "0    1EI00045  1EI00045                29        KL REGION       1920.00   \n",
              "1    1EI00051  1EI00051                25  NORTHERN REGION     183464.60   \n",
              "2    1EI00071  1EI00071                32        KL REGION      56899.68   \n",
              "3    1EI00073  1EI04998                34        KL REGION       1133.04   \n",
              "4    1EI00079  1EI00079                36    SABAH REGION        6720.00   \n",
              "5    1EI00083  1EI00083                34  SARAWAK REGION       12372.24   \n",
              "6    1EI00087  1EI00087                40  SARAWAK REGION       14280.00   \n",
              "7    1EI00088  1EI00088                33  SARAWAK REGION       13200.00   \n",
              "8    1EI00090  1EI00083                36  SARAWAK REGION        9000.00   \n",
              "9    1EI00092  1EI00092                36  NORTHERN REGION     106813.20   \n",
              "10   1EI00094  1EI00251                30  SARAWAK REGION        2400.00   \n",
              "11   1EI00105  1EI00105                26  NORTHERN REGION     204700.00   \n",
              "12   1EI00113  1EI00079                23    SABAH REGION       79743.48   \n",
              "13   1EI00118  1EI00071                22        KL REGION     392166.51   \n",
              "14   1EI00123  1EI00100                21    SABAH REGION        6760.00   \n",
              "15   1EI00124  1EI00105                21  NORTHERN REGION      37064.00   \n",
              "16   1EI00125  1EI00105                21  NORTHERN REGION      79142.00   \n",
              "17   1EI00126  1EI00062                21        KL REGION       2880.00   \n",
              "18   1EI00128  1EI00100                20    SABAH REGION      407624.00   \n",
              "19   1EI00130  1EI00102                20  SARAWAK REGION       67570.56   \n",
              "\n",
              "    AFYP_exclude_RTU  Cases  Average_Case_Size Agent_Category  \n",
              "0            1920.00      1        1920.000000            Low  \n",
              "1          183344.60     60        3057.743333           High  \n",
              "2           55939.68     19        2994.720000            Low  \n",
              "3            1133.04      2         566.520000            Low  \n",
              "4            6480.00      4        1680.000000            Low  \n",
              "5           11892.24      4        3093.060000            Low  \n",
              "6           12600.00      4        3570.000000            Low  \n",
              "7           13200.00      4        3300.000000            Low  \n",
              "8            9000.00      2        4500.000000            Low  \n",
              "9           99853.20     34        3141.564706           High  \n",
              "10           2400.00      1        2400.000000            Low  \n",
              "11         202900.00     66        3101.515152           High  \n",
              "12          77103.48     28        2847.981429            Low  \n",
              "13         369246.51    103        3807.441845           High  \n",
              "14           6640.00      3        2253.333333            Low  \n",
              "15          35864.00     14        2647.428571            Low  \n",
              "16          75302.00     29        2729.034483            Low  \n",
              "17           2640.00      1        2880.000000            Low  \n",
              "18         371624.00    169        2411.976331           High  \n",
              "19          63970.56     24        2815.440000            Low  "
            ],
            "text/html": [
              "\n",
              "  <div id=\"df-f964d0a7-f05c-4b6a-9ff5-9b3f7723d1ab\">\n",
              "    <div class=\"colab-df-container\">\n",
              "      <div>\n",
              "<style scoped>\n",
              "    .dataframe tbody tr th:only-of-type {\n",
              "        vertical-align: middle;\n",
              "    }\n",
              "\n",
              "    .dataframe tbody tr th {\n",
              "        vertical-align: top;\n",
              "    }\n",
              "\n",
              "    .dataframe thead th {\n",
              "        text-align: right;\n",
              "    }\n",
              "</style>\n",
              "<table border=\"1\" class=\"dataframe\">\n",
              "  <thead>\n",
              "    <tr style=\"text-align: right;\">\n",
              "      <th></th>\n",
              "      <th>AGENT_CODE</th>\n",
              "      <th>GAM_CODE</th>\n",
              "      <th>Agent_Experience</th>\n",
              "      <th>REGION_NAME</th>\n",
              "      <th>AFYP_Regular</th>\n",
              "      <th>AFYP_exclude_RTU</th>\n",
              "      <th>Cases</th>\n",
              "      <th>Average_Case_Size</th>\n",
              "      <th>Agent_Category</th>\n",
              "    </tr>\n",
              "  </thead>\n",
              "  <tbody>\n",
              "    <tr>\n",
              "      <th>0</th>\n",
              "      <td>1EI00045</td>\n",
              "      <td>1EI00045</td>\n",
              "      <td>29</td>\n",
              "      <td>KL REGION</td>\n",
              "      <td>1920.00</td>\n",
              "      <td>1920.00</td>\n",
              "      <td>1</td>\n",
              "      <td>1920.000000</td>\n",
              "      <td>Low</td>\n",
              "    </tr>\n",
              "    <tr>\n",
              "      <th>1</th>\n",
              "      <td>1EI00051</td>\n",
              "      <td>1EI00051</td>\n",
              "      <td>25</td>\n",
              "      <td>NORTHERN REGION</td>\n",
              "      <td>183464.60</td>\n",
              "      <td>183344.60</td>\n",
              "      <td>60</td>\n",
              "      <td>3057.743333</td>\n",
              "      <td>High</td>\n",
              "    </tr>\n",
              "    <tr>\n",
              "      <th>2</th>\n",
              "      <td>1EI00071</td>\n",
              "      <td>1EI00071</td>\n",
              "      <td>32</td>\n",
              "      <td>KL REGION</td>\n",
              "      <td>56899.68</td>\n",
              "      <td>55939.68</td>\n",
              "      <td>19</td>\n",
              "      <td>2994.720000</td>\n",
              "      <td>Low</td>\n",
              "    </tr>\n",
              "    <tr>\n",
              "      <th>3</th>\n",
              "      <td>1EI00073</td>\n",
              "      <td>1EI04998</td>\n",
              "      <td>34</td>\n",
              "      <td>KL REGION</td>\n",
              "      <td>1133.04</td>\n",
              "      <td>1133.04</td>\n",
              "      <td>2</td>\n",
              "      <td>566.520000</td>\n",
              "      <td>Low</td>\n",
              "    </tr>\n",
              "    <tr>\n",
              "      <th>4</th>\n",
              "      <td>1EI00079</td>\n",
              "      <td>1EI00079</td>\n",
              "      <td>36</td>\n",
              "      <td>SABAH REGION</td>\n",
              "      <td>6720.00</td>\n",
              "      <td>6480.00</td>\n",
              "      <td>4</td>\n",
              "      <td>1680.000000</td>\n",
              "      <td>Low</td>\n",
              "    </tr>\n",
              "    <tr>\n",
              "      <th>5</th>\n",
              "      <td>1EI00083</td>\n",
              "      <td>1EI00083</td>\n",
              "      <td>34</td>\n",
              "      <td>SARAWAK REGION</td>\n",
              "      <td>12372.24</td>\n",
              "      <td>11892.24</td>\n",
              "      <td>4</td>\n",
              "      <td>3093.060000</td>\n",
              "      <td>Low</td>\n",
              "    </tr>\n",
              "    <tr>\n",
              "      <th>6</th>\n",
              "      <td>1EI00087</td>\n",
              "      <td>1EI00087</td>\n",
              "      <td>40</td>\n",
              "      <td>SARAWAK REGION</td>\n",
              "      <td>14280.00</td>\n",
              "      <td>12600.00</td>\n",
              "      <td>4</td>\n",
              "      <td>3570.000000</td>\n",
              "      <td>Low</td>\n",
              "    </tr>\n",
              "    <tr>\n",
              "      <th>7</th>\n",
              "      <td>1EI00088</td>\n",
              "      <td>1EI00088</td>\n",
              "      <td>33</td>\n",
              "      <td>SARAWAK REGION</td>\n",
              "      <td>13200.00</td>\n",
              "      <td>13200.00</td>\n",
              "      <td>4</td>\n",
              "      <td>3300.000000</td>\n",
              "      <td>Low</td>\n",
              "    </tr>\n",
              "    <tr>\n",
              "      <th>8</th>\n",
              "      <td>1EI00090</td>\n",
              "      <td>1EI00083</td>\n",
              "      <td>36</td>\n",
              "      <td>SARAWAK REGION</td>\n",
              "      <td>9000.00</td>\n",
              "      <td>9000.00</td>\n",
              "      <td>2</td>\n",
              "      <td>4500.000000</td>\n",
              "      <td>Low</td>\n",
              "    </tr>\n",
              "    <tr>\n",
              "      <th>9</th>\n",
              "      <td>1EI00092</td>\n",
              "      <td>1EI00092</td>\n",
              "      <td>36</td>\n",
              "      <td>NORTHERN REGION</td>\n",
              "      <td>106813.20</td>\n",
              "      <td>99853.20</td>\n",
              "      <td>34</td>\n",
              "      <td>3141.564706</td>\n",
              "      <td>High</td>\n",
              "    </tr>\n",
              "    <tr>\n",
              "      <th>10</th>\n",
              "      <td>1EI00094</td>\n",
              "      <td>1EI00251</td>\n",
              "      <td>30</td>\n",
              "      <td>SARAWAK REGION</td>\n",
              "      <td>2400.00</td>\n",
              "      <td>2400.00</td>\n",
              "      <td>1</td>\n",
              "      <td>2400.000000</td>\n",
              "      <td>Low</td>\n",
              "    </tr>\n",
              "    <tr>\n",
              "      <th>11</th>\n",
              "      <td>1EI00105</td>\n",
              "      <td>1EI00105</td>\n",
              "      <td>26</td>\n",
              "      <td>NORTHERN REGION</td>\n",
              "      <td>204700.00</td>\n",
              "      <td>202900.00</td>\n",
              "      <td>66</td>\n",
              "      <td>3101.515152</td>\n",
              "      <td>High</td>\n",
              "    </tr>\n",
              "    <tr>\n",
              "      <th>12</th>\n",
              "      <td>1EI00113</td>\n",
              "      <td>1EI00079</td>\n",
              "      <td>23</td>\n",
              "      <td>SABAH REGION</td>\n",
              "      <td>79743.48</td>\n",
              "      <td>77103.48</td>\n",
              "      <td>28</td>\n",
              "      <td>2847.981429</td>\n",
              "      <td>Low</td>\n",
              "    </tr>\n",
              "    <tr>\n",
              "      <th>13</th>\n",
              "      <td>1EI00118</td>\n",
              "      <td>1EI00071</td>\n",
              "      <td>22</td>\n",
              "      <td>KL REGION</td>\n",
              "      <td>392166.51</td>\n",
              "      <td>369246.51</td>\n",
              "      <td>103</td>\n",
              "      <td>3807.441845</td>\n",
              "      <td>High</td>\n",
              "    </tr>\n",
              "    <tr>\n",
              "      <th>14</th>\n",
              "      <td>1EI00123</td>\n",
              "      <td>1EI00100</td>\n",
              "      <td>21</td>\n",
              "      <td>SABAH REGION</td>\n",
              "      <td>6760.00</td>\n",
              "      <td>6640.00</td>\n",
              "      <td>3</td>\n",
              "      <td>2253.333333</td>\n",
              "      <td>Low</td>\n",
              "    </tr>\n",
              "    <tr>\n",
              "      <th>15</th>\n",
              "      <td>1EI00124</td>\n",
              "      <td>1EI00105</td>\n",
              "      <td>21</td>\n",
              "      <td>NORTHERN REGION</td>\n",
              "      <td>37064.00</td>\n",
              "      <td>35864.00</td>\n",
              "      <td>14</td>\n",
              "      <td>2647.428571</td>\n",
              "      <td>Low</td>\n",
              "    </tr>\n",
              "    <tr>\n",
              "      <th>16</th>\n",
              "      <td>1EI00125</td>\n",
              "      <td>1EI00105</td>\n",
              "      <td>21</td>\n",
              "      <td>NORTHERN REGION</td>\n",
              "      <td>79142.00</td>\n",
              "      <td>75302.00</td>\n",
              "      <td>29</td>\n",
              "      <td>2729.034483</td>\n",
              "      <td>Low</td>\n",
              "    </tr>\n",
              "    <tr>\n",
              "      <th>17</th>\n",
              "      <td>1EI00126</td>\n",
              "      <td>1EI00062</td>\n",
              "      <td>21</td>\n",
              "      <td>KL REGION</td>\n",
              "      <td>2880.00</td>\n",
              "      <td>2640.00</td>\n",
              "      <td>1</td>\n",
              "      <td>2880.000000</td>\n",
              "      <td>Low</td>\n",
              "    </tr>\n",
              "    <tr>\n",
              "      <th>18</th>\n",
              "      <td>1EI00128</td>\n",
              "      <td>1EI00100</td>\n",
              "      <td>20</td>\n",
              "      <td>SABAH REGION</td>\n",
              "      <td>407624.00</td>\n",
              "      <td>371624.00</td>\n",
              "      <td>169</td>\n",
              "      <td>2411.976331</td>\n",
              "      <td>High</td>\n",
              "    </tr>\n",
              "    <tr>\n",
              "      <th>19</th>\n",
              "      <td>1EI00130</td>\n",
              "      <td>1EI00102</td>\n",
              "      <td>20</td>\n",
              "      <td>SARAWAK REGION</td>\n",
              "      <td>67570.56</td>\n",
              "      <td>63970.56</td>\n",
              "      <td>24</td>\n",
              "      <td>2815.440000</td>\n",
              "      <td>Low</td>\n",
              "    </tr>\n",
              "  </tbody>\n",
              "</table>\n",
              "</div>\n",
              "      <button class=\"colab-df-convert\" onclick=\"convertToInteractive('df-f964d0a7-f05c-4b6a-9ff5-9b3f7723d1ab')\"\n",
              "              title=\"Convert this dataframe to an interactive table.\"\n",
              "              style=\"display:none;\">\n",
              "        \n",
              "  <svg xmlns=\"http://www.w3.org/2000/svg\" height=\"24px\"viewBox=\"0 0 24 24\"\n",
              "       width=\"24px\">\n",
              "    <path d=\"M0 0h24v24H0V0z\" fill=\"none\"/>\n",
              "    <path d=\"M18.56 5.44l.94 2.06.94-2.06 2.06-.94-2.06-.94-.94-2.06-.94 2.06-2.06.94zm-11 1L8.5 8.5l.94-2.06 2.06-.94-2.06-.94L8.5 2.5l-.94 2.06-2.06.94zm10 10l.94 2.06.94-2.06 2.06-.94-2.06-.94-.94-2.06-.94 2.06-2.06.94z\"/><path d=\"M17.41 7.96l-1.37-1.37c-.4-.4-.92-.59-1.43-.59-.52 0-1.04.2-1.43.59L10.3 9.45l-7.72 7.72c-.78.78-.78 2.05 0 2.83L4 21.41c.39.39.9.59 1.41.59.51 0 1.02-.2 1.41-.59l7.78-7.78 2.81-2.81c.8-.78.8-2.07 0-2.86zM5.41 20L4 18.59l7.72-7.72 1.47 1.35L5.41 20z\"/>\n",
              "  </svg>\n",
              "      </button>\n",
              "      \n",
              "  <style>\n",
              "    .colab-df-container {\n",
              "      display:flex;\n",
              "      flex-wrap:wrap;\n",
              "      gap: 12px;\n",
              "    }\n",
              "\n",
              "    .colab-df-convert {\n",
              "      background-color: #E8F0FE;\n",
              "      border: none;\n",
              "      border-radius: 50%;\n",
              "      cursor: pointer;\n",
              "      display: none;\n",
              "      fill: #1967D2;\n",
              "      height: 32px;\n",
              "      padding: 0 0 0 0;\n",
              "      width: 32px;\n",
              "    }\n",
              "\n",
              "    .colab-df-convert:hover {\n",
              "      background-color: #E2EBFA;\n",
              "      box-shadow: 0px 1px 2px rgba(60, 64, 67, 0.3), 0px 1px 3px 1px rgba(60, 64, 67, 0.15);\n",
              "      fill: #174EA6;\n",
              "    }\n",
              "\n",
              "    [theme=dark] .colab-df-convert {\n",
              "      background-color: #3B4455;\n",
              "      fill: #D2E3FC;\n",
              "    }\n",
              "\n",
              "    [theme=dark] .colab-df-convert:hover {\n",
              "      background-color: #434B5C;\n",
              "      box-shadow: 0px 1px 3px 1px rgba(0, 0, 0, 0.15);\n",
              "      filter: drop-shadow(0px 1px 2px rgba(0, 0, 0, 0.3));\n",
              "      fill: #FFFFFF;\n",
              "    }\n",
              "  </style>\n",
              "\n",
              "      <script>\n",
              "        const buttonEl =\n",
              "          document.querySelector('#df-f964d0a7-f05c-4b6a-9ff5-9b3f7723d1ab button.colab-df-convert');\n",
              "        buttonEl.style.display =\n",
              "          google.colab.kernel.accessAllowed ? 'block' : 'none';\n",
              "\n",
              "        async function convertToInteractive(key) {\n",
              "          const element = document.querySelector('#df-f964d0a7-f05c-4b6a-9ff5-9b3f7723d1ab');\n",
              "          const dataTable =\n",
              "            await google.colab.kernel.invokeFunction('convertToInteractive',\n",
              "                                                     [key], {});\n",
              "          if (!dataTable) return;\n",
              "\n",
              "          const docLinkHtml = 'Like what you see? Visit the ' +\n",
              "            '<a target=\"_blank\" href=https://colab.research.google.com/notebooks/data_table.ipynb>data table notebook</a>'\n",
              "            + ' to learn more about interactive tables.';\n",
              "          element.innerHTML = '';\n",
              "          dataTable['output_type'] = 'display_data';\n",
              "          await google.colab.output.renderOutput(dataTable, element);\n",
              "          const docLink = document.createElement('div');\n",
              "          docLink.innerHTML = docLinkHtml;\n",
              "          element.appendChild(docLink);\n",
              "        }\n",
              "      </script>\n",
              "    </div>\n",
              "  </div>\n",
              "  "
            ]
          },
          "metadata": {},
          "execution_count": 11
        }
      ]
    },
    {
      "cell_type": "markdown",
      "source": [
        "**Handling Duplicates**"
      ],
      "metadata": {
        "id": "t7zIZNNZgQGD"
      }
    },
    {
      "cell_type": "code",
      "source": [
        "# Check for duplicates. There is no duplicates\n",
        "data.duplicated().sum()"
      ],
      "metadata": {
        "colab": {
          "base_uri": "https://localhost:8080/"
        },
        "id": "4FacwMPMfXEe",
        "outputId": "0240c6a1-4a01-4930-ede6-d098919e6069"
      },
      "execution_count": 12,
      "outputs": [
        {
          "output_type": "execute_result",
          "data": {
            "text/plain": [
              "0"
            ]
          },
          "metadata": {},
          "execution_count": 12
        }
      ]
    },
    {
      "cell_type": "markdown",
      "source": [
        "**Handling Outliers**\n",
        "\n",
        "There are outliers detected for 5 columns"
      ],
      "metadata": {
        "id": "99luZT5dgkIT"
      }
    },
    {
      "cell_type": "code",
      "source": [
        "plt.figure(figsize=(14,6))\n",
        "data1.boxplot()"
      ],
      "metadata": {
        "colab": {
          "base_uri": "https://localhost:8080/",
          "height": 555
        },
        "id": "LtpQmQhignFu",
        "outputId": "74b958bd-2369-4b26-9c6f-3148331703a7"
      },
      "execution_count": 13,
      "outputs": [
        {
          "output_type": "execute_result",
          "data": {
            "text/plain": [
              "<Axes: >"
            ]
          },
          "metadata": {},
          "execution_count": 13
        },
        {
          "output_type": "display_data",
          "data": {
            "text/plain": [
              "<Figure size 1400x600 with 1 Axes>"
            ],
            "image/png": "[encoded data removed]"
          },
          "metadata": {}
        }
      ]
    },
    {
      "cell_type": "code",
      "source": [
        "plt.boxplot(data1['Cases'])"
      ],
      "metadata": {
        "colab": {
          "base_uri": "https://localhost:8080/",
          "height": 570
        },
        "id": "T0bW7w1hjWaT",
        "outputId": "116141e9-a41d-4c95-89d7-b8597988dede"
      },
      "execution_count": 14,
      "outputs": [
        {
          "output_type": "execute_result",
          "data": {
            "text/plain": [
              "{'whiskers': [<matplotlib.lines.Line2D at 0x7fe01db99c40>,\n",
              "  <matplotlib.lines.Line2D at 0x7fe01db99ee0>],\n",
              " 'caps': [<matplotlib.lines.Line2D at 0x7fe0209271c0>,\n",
              "  <matplotlib.lines.Line2D at 0x7fe020927460>],\n",
              " 'boxes': [<matplotlib.lines.Line2D at 0x7fe01db99ac0>],\n",
              " 'medians': [<matplotlib.lines.Line2D at 0x7fe020927700>],\n",
              " 'fliers': [<matplotlib.lines.Line2D at 0x7fe0209279a0>],\n",
              " 'means': []}"
            ]
          },
          "metadata": {},
          "execution_count": 14
        },
        {
          "output_type": "display_data",
          "data": {
            "text/plain": [
              "<Figure size 640x480 with 1 Axes>"
            ],
            "image/png": "[encoded data removed]"
          },
          "metadata": {}
        }
      ]
    },
    {
      "cell_type": "code",
      "source": [
        "plt.boxplot(data1['Agent_Experience'])"
      ],
      "metadata": {
        "colab": {
          "base_uri": "https://localhost:8080/",
          "height": 569
        },
        "id": "61t7EkvMjvl6",
        "outputId": "5dcf8c5e-3187-4ea1-fdc8-46e7e498eeda"
      },
      "execution_count": 15,
      "outputs": [
        {
          "output_type": "execute_result",
          "data": {
            "text/plain": [
              "{'whiskers': [<matplotlib.lines.Line2D at 0x7fe020908e50>,\n",
              "  <matplotlib.lines.Line2D at 0x7fe020918130>],\n",
              " 'caps': [<matplotlib.lines.Line2D at 0x7fe0209183d0>,\n",
              "  <matplotlib.lines.Line2D at 0x7fe020918670>],\n",
              " 'boxes': [<matplotlib.lines.Line2D at 0x7fe020908bb0>],\n",
              " 'medians': [<matplotlib.lines.Line2D at 0x7fe020918910>],\n",
              " 'fliers': [<matplotlib.lines.Line2D at 0x7fe020918bb0>],\n",
              " 'means': []}"
            ]
          },
          "metadata": {},
          "execution_count": 15
        },
        {
          "output_type": "display_data",
          "data": {
            "text/plain": [
              "<Figure size 640x480 with 1 Axes>"
            ],
            "image/png": "[encoded data removed]"
          },
          "metadata": {}
        }
      ]
    },
    {
      "cell_type": "markdown",
      "source": [
        "**Check for Data Types**"
      ],
      "metadata": {
        "id": "cIUkn0y2sKen"
      }
    },
    {
      "cell_type": "code",
      "source": [
        "data1.info()"
      ],
      "metadata": {
        "colab": {
          "base_uri": "https://localhost:8080/"
        },
        "id": "d-fqKgKHr8Gv",
        "outputId": "34c592e7-c413-4cc8-b13e-5128a87c0712"
      },
      "execution_count": 16,
      "outputs": [
        {
          "output_type": "stream",
          "name": "stdout",
          "text": [
            "<class 'pandas.core.frame.DataFrame'>\n",
            "RangeIndex: 414 entries, 0 to 413\n",
            "Data columns (total 9 columns):\n",
            " #   Column             Non-Null Count  Dtype  \n",
            "---  ------             --------------  -----  \n",
            " 0   AGENT_CODE         414 non-null    object \n",
            " 1   GAM_CODE           414 non-null    object \n",
            " 2   Agent_Experience   414 non-null    int64  \n",
            " 3   REGION_NAME        414 non-null    object \n",
            " 4   AFYP_Regular       414 non-null    float64\n",
            " 5   AFYP_exclude_RTU   414 non-null    float64\n",
            " 6   Cases              414 non-null    int64  \n",
            " 7   Average_Case_Size  414 non-null    float64\n",
            " 8   Agent_Category     414 non-null    object \n",
            "dtypes: float64(3), int64(2), object(4)\n",
            "memory usage: 29.2+ KB\n"
          ]
        }
      ]
    },
    {
      "cell_type": "code",
      "source": [
        "# Convert the Agent_Category column to categorical using Label Encoding technique\n",
        "# High=0, Low=1\n",
        "\n",
        "from sklearn.preprocessing import LabelEncoder\n",
        "labelencoder = LabelEncoder()\n",
        "\n",
        "# Assigning numerical values and storing in another column\n",
        "data1['Agent_Category'] = labelencoder.fit_transform(data1['Agent_Category'])\n",
        "data1.head(20)"
      ],
      "metadata": {
        "colab": {
          "base_uri": "https://localhost:8080/",
          "height": 676
        },
        "id": "KmUAUdLjsqoX",
        "outputId": "7fa6f08c-a62c-4cc7-93e8-c127fa6f3b46"
      },
      "execution_count": 17,
      "outputs": [
        {
          "output_type": "execute_result",
          "data": {
            "text/plain": [
              "   AGENT_CODE  GAM_CODE  Agent_Experience      REGION_NAME  AFYP_Regular  \\\n",
              "0    1EI00045  1EI00045                29        KL REGION       1920.00   \n",
              "1    1EI00051  1EI00051                25  NORTHERN REGION     183464.60   \n",
              "2    1EI00071  1EI00071                32        KL REGION      56899.68   \n",
              "3    1EI00073  1EI04998                34        KL REGION       1133.04   \n",
              "4    1EI00079  1EI00079                36    SABAH REGION        6720.00   \n",
              "5    1EI00083  1EI00083                34  SARAWAK REGION       12372.24   \n",
              "6    1EI00087  1EI00087                40  SARAWAK REGION       14280.00   \n",
              "7    1EI00088  1EI00088                33  SARAWAK REGION       13200.00   \n",
              "8    1EI00090  1EI00083                36  SARAWAK REGION        9000.00   \n",
              "9    1EI00092  1EI00092                36  NORTHERN REGION     106813.20   \n",
              "10   1EI00094  1EI00251                30  SARAWAK REGION        2400.00   \n",
              "11   1EI00105  1EI00105                26  NORTHERN REGION     204700.00   \n",
              "12   1EI00113  1EI00079                23    SABAH REGION       79743.48   \n",
              "13   1EI00118  1EI00071                22        KL REGION     392166.51   \n",
              "14   1EI00123  1EI00100                21    SABAH REGION        6760.00   \n",
              "15   1EI00124  1EI00105                21  NORTHERN REGION      37064.00   \n",
              "16   1EI00125  1EI00105                21  NORTHERN REGION      79142.00   \n",
              "17   1EI00126  1EI00062                21        KL REGION       2880.00   \n",
              "18   1EI00128  1EI00100                20    SABAH REGION      407624.00   \n",
              "19   1EI00130  1EI00102                20  SARAWAK REGION       67570.56   \n",
              "\n",
              "    AFYP_exclude_RTU  Cases  Average_Case_Size  Agent_Category  \n",
              "0            1920.00      1        1920.000000               1  \n",
              "1          183344.60     60        3057.743333               0  \n",
              "2           55939.68     19        2994.720000               1  \n",
              "3            1133.04      2         566.520000               1  \n",
              "4            6480.00      4        1680.000000               1  \n",
              "5           11892.24      4        3093.060000               1  \n",
              "6           12600.00      4        3570.000000               1  \n",
              "7           13200.00      4        3300.000000               1  \n",
              "8            9000.00      2        4500.000000               1  \n",
              "9           99853.20     34        3141.564706               0  \n",
              "10           2400.00      1        2400.000000               1  \n",
              "11         202900.00     66        3101.515152               0  \n",
              "12          77103.48     28        2847.981429               1  \n",
              "13         369246.51    103        3807.441845               0  \n",
              "14           6640.00      3        2253.333333               1  \n",
              "15          35864.00     14        2647.428571               1  \n",
              "16          75302.00     29        2729.034483               1  \n",
              "17           2640.00      1        2880.000000               1  \n",
              "18         371624.00    169        2411.976331               0  \n",
              "19          63970.56     24        2815.440000               1  "
            ],
            "text/html": [
              "\n",
              "  <div id=\"df-8ca237f6-6fa6-49a8-ad54-dd71955a5d57\">\n",
              "    <div class=\"colab-df-container\">\n",
              "      <div>\n",
              "<style scoped>\n",
              "    .dataframe tbody tr th:only-of-type {\n",
              "        vertical-align: middle;\n",
              "    }\n",
              "\n",
              "    .dataframe tbody tr th {\n",
              "        vertical-align: top;\n",
              "    }\n",
              "\n",
              "    .dataframe thead th {\n",
              "        text-align: right;\n",
              "    }\n",
              "</style>\n",
              "<table border=\"1\" class=\"dataframe\">\n",
              "  <thead>\n",
              "    <tr style=\"text-align: right;\">\n",
              "      <th></th>\n",
              "      <th>AGENT_CODE</th>\n",
              "      <th>GAM_CODE</th>\n",
              "      <th>Agent_Experience</th>\n",
              "      <th>REGION_NAME</th>\n",
              "      <th>AFYP_Regular</th>\n",
              "      <th>AFYP_exclude_RTU</th>\n",
              "      <th>Cases</th>\n",
              "      <th>Average_Case_Size</th>\n",
              "      <th>Agent_Category</th>\n",
              "    </tr>\n",
              "  </thead>\n",
              "  <tbody>\n",
              "    <tr>\n",
              "      <th>0</th>\n",
              "      <td>1EI00045</td>\n",
              "      <td>1EI00045</td>\n",
              "      <td>29</td>\n",
              "      <td>KL REGION</td>\n",
              "      <td>1920.00</td>\n",
              "      <td>1920.00</td>\n",
              "      <td>1</td>\n",
              "      <td>1920.000000</td>\n",
              "      <td>1</td>\n",
              "    </tr>\n",
              "    <tr>\n",
              "      <th>1</th>\n",
              "      <td>1EI00051</td>\n",
              "      <td>1EI00051</td>\n",
              "      <td>25</td>\n",
              "      <td>NORTHERN REGION</td>\n",
              "      <td>183464.60</td>\n",
              "      <td>183344.60</td>\n",
              "      <td>60</td>\n",
              "      <td>3057.743333</td>\n",
              "      <td>0</td>\n",
              "    </tr>\n",
              "    <tr>\n",
              "      <th>2</th>\n",
              "      <td>1EI00071</td>\n",
              "      <td>1EI00071</td>\n",
              "      <td>32</td>\n",
              "      <td>KL REGION</td>\n",
              "      <td>56899.68</td>\n",
              "      <td>55939.68</td>\n",
              "      <td>19</td>\n",
              "      <td>2994.720000</td>\n",
              "      <td>1</td>\n",
              "    </tr>\n",
              "    <tr>\n",
              "      <th>3</th>\n",
              "      <td>1EI00073</td>\n",
              "      <td>1EI04998</td>\n",
              "      <td>34</td>\n",
              "      <td>KL REGION</td>\n",
              "      <td>1133.04</td>\n",
              "      <td>1133.04</td>\n",
              "      <td>2</td>\n",
              "      <td>566.520000</td>\n",
              "      <td>1</td>\n",
              "    </tr>\n",
              "    <tr>\n",
              "      <th>4</th>\n",
              "      <td>1EI00079</td>\n",
              "      <td>1EI00079</td>\n",
              "      <td>36</td>\n",
              "      <td>SABAH REGION</td>\n",
              "      <td>6720.00</td>\n",
              "      <td>6480.00</td>\n",
              "      <td>4</td>\n",
              "      <td>1680.000000</td>\n",
              "      <td>1</td>\n",
              "    </tr>\n",
              "    <tr>\n",
              "      <th>5</th>\n",
              "      <td>1EI00083</td>\n",
              "      <td>1EI00083</td>\n",
              "      <td>34</td>\n",
              "      <td>SARAWAK REGION</td>\n",
              "      <td>12372.24</td>\n",
              "      <td>11892.24</td>\n",
              "      <td>4</td>\n",
              "      <td>3093.060000</td>\n",
              "      <td>1</td>\n",
              "    </tr>\n",
              "    <tr>\n",
              "      <th>6</th>\n",
              "      <td>1EI00087</td>\n",
              "      <td>1EI00087</td>\n",
              "      <td>40</td>\n",
              "      <td>SARAWAK REGION</td>\n",
              "      <td>14280.00</td>\n",
              "      <td>12600.00</td>\n",
              "      <td>4</td>\n",
              "      <td>3570.000000</td>\n",
              "      <td>1</td>\n",
              "    </tr>\n",
              "    <tr>\n",
              "      <th>7</th>\n",
              "      <td>1EI00088</td>\n",
              "      <td>1EI00088</td>\n",
              "      <td>33</td>\n",
              "      <td>SARAWAK REGION</td>\n",
              "      <td>13200.00</td>\n",
              "      <td>13200.00</td>\n",
              "      <td>4</td>\n",
              "      <td>3300.000000</td>\n",
              "      <td>1</td>\n",
              "    </tr>\n",
              "    <tr>\n",
              "      <th>8</th>\n",
              "      <td>1EI00090</td>\n",
              "      <td>1EI00083</td>\n",
              "      <td>36</td>\n",
              "      <td>SARAWAK REGION</td>\n",
              "      <td>9000.00</td>\n",
              "      <td>9000.00</td>\n",
              "      <td>2</td>\n",
              "      <td>4500.000000</td>\n",
              "      <td>1</td>\n",
              "    </tr>\n",
              "    <tr>\n",
              "      <th>9</th>\n",
              "      <td>1EI00092</td>\n",
              "      <td>1EI00092</td>\n",
              "      <td>36</td>\n",
              "      <td>NORTHERN REGION</td>\n",
              "      <td>106813.20</td>\n",
              "      <td>99853.20</td>\n",
              "      <td>34</td>\n",
              "      <td>3141.564706</td>\n",
              "      <td>0</td>\n",
              "    </tr>\n",
              "    <tr>\n",
              "      <th>10</th>\n",
              "      <td>1EI00094</td>\n",
              "      <td>1EI00251</td>\n",
              "      <td>30</td>\n",
              "      <td>SARAWAK REGION</td>\n",
              "      <td>2400.00</td>\n",
              "      <td>2400.00</td>\n",
              "      <td>1</td>\n",
              "      <td>2400.000000</td>\n",
              "      <td>1</td>\n",
              "    </tr>\n",
              "    <tr>\n",
              "      <th>11</th>\n",
              "      <td>1EI00105</td>\n",
              "      <td>1EI00105</td>\n",
              "      <td>26</td>\n",
              "      <td>NORTHERN REGION</td>\n",
              "      <td>204700.00</td>\n",
              "      <td>202900.00</td>\n",
              "      <td>66</td>\n",
              "      <td>3101.515152</td>\n",
              "      <td>0</td>\n",
              "    </tr>\n",
              "    <tr>\n",
              "      <th>12</th>\n",
              "      <td>1EI00113</td>\n",
              "      <td>1EI00079</td>\n",
              "      <td>23</td>\n",
              "      <td>SABAH REGION</td>\n",
              "      <td>79743.48</td>\n",
              "      <td>77103.48</td>\n",
              "      <td>28</td>\n",
              "      <td>2847.981429</td>\n",
              "      <td>1</td>\n",
              "    </tr>\n",
              "    <tr>\n",
              "      <th>13</th>\n",
              "      <td>1EI00118</td>\n",
              "      <td>1EI00071</td>\n",
              "      <td>22</td>\n",
              "      <td>KL REGION</td>\n",
              "      <td>392166.51</td>\n",
              "      <td>369246.51</td>\n",
              "      <td>103</td>\n",
              "      <td>3807.441845</td>\n",
              "      <td>0</td>\n",
              "    </tr>\n",
              "    <tr>\n",
              "      <th>14</th>\n",
              "      <td>1EI00123</td>\n",
              "      <td>1EI00100</td>\n",
              "      <td>21</td>\n",
              "      <td>SABAH REGION</td>\n",
              "      <td>6760.00</td>\n",
              "      <td>6640.00</td>\n",
              "      <td>3</td>\n",
              "      <td>2253.333333</td>\n",
              "      <td>1</td>\n",
              "    </tr>\n",
              "    <tr>\n",
              "      <th>15</th>\n",
              "      <td>1EI00124</td>\n",
              "      <td>1EI00105</td>\n",
              "      <td>21</td>\n",
              "      <td>NORTHERN REGION</td>\n",
              "      <td>37064.00</td>\n",
              "      <td>35864.00</td>\n",
              "      <td>14</td>\n",
              "      <td>2647.428571</td>\n",
              "      <td>1</td>\n",
              "    </tr>\n",
              "    <tr>\n",
              "      <th>16</th>\n",
              "      <td>1EI00125</td>\n",
              "      <td>1EI00105</td>\n",
              "      <td>21</td>\n",
              "      <td>NORTHERN REGION</td>\n",
              "      <td>79142.00</td>\n",
              "      <td>75302.00</td>\n",
              "      <td>29</td>\n",
              "      <td>2729.034483</td>\n",
              "      <td>1</td>\n",
              "    </tr>\n",
              "    <tr>\n",
              "      <th>17</th>\n",
              "      <td>1EI00126</td>\n",
              "      <td>1EI00062</td>\n",
              "      <td>21</td>\n",
              "      <td>KL REGION</td>\n",
              "      <td>2880.00</td>\n",
              "      <td>2640.00</td>\n",
              "      <td>1</td>\n",
              "      <td>2880.000000</td>\n",
              "      <td>1</td>\n",
              "    </tr>\n",
              "    <tr>\n",
              "      <th>18</th>\n",
              "      <td>1EI00128</td>\n",
              "      <td>1EI00100</td>\n",
              "      <td>20</td>\n",
              "      <td>SABAH REGION</td>\n",
              "      <td>407624.00</td>\n",
              "      <td>371624.00</td>\n",
              "      <td>169</td>\n",
              "      <td>2411.976331</td>\n",
              "      <td>0</td>\n",
              "    </tr>\n",
              "    <tr>\n",
              "      <th>19</th>\n",
              "      <td>1EI00130</td>\n",
              "      <td>1EI00102</td>\n",
              "      <td>20</td>\n",
              "      <td>SARAWAK REGION</td>\n",
              "      <td>67570.56</td>\n",
              "      <td>63970.56</td>\n",
              "      <td>24</td>\n",
              "      <td>2815.440000</td>\n",
              "      <td>1</td>\n",
              "    </tr>\n",
              "  </tbody>\n",
              "</table>\n",
              "</div>\n",
              "      <button class=\"colab-df-convert\" onclick=\"convertToInteractive('df-8ca237f6-6fa6-49a8-ad54-dd71955a5d57')\"\n",
              "              title=\"Convert this dataframe to an interactive table.\"\n",
              "              style=\"display:none;\">\n",
              "        \n",
              "  <svg xmlns=\"http://www.w3.org/2000/svg\" height=\"24px\"viewBox=\"0 0 24 24\"\n",
              "       width=\"24px\">\n",
              "    <path d=\"M0 0h24v24H0V0z\" fill=\"none\"/>\n",
              "    <path d=\"M18.56 5.44l.94 2.06.94-2.06 2.06-.94-2.06-.94-.94-2.06-.94 2.06-2.06.94zm-11 1L8.5 8.5l.94-2.06 2.06-.94-2.06-.94L8.5 2.5l-.94 2.06-2.06.94zm10 10l.94 2.06.94-2.06 2.06-.94-2.06-.94-.94-2.06-.94 2.06-2.06.94z\"/><path d=\"M17.41 7.96l-1.37-1.37c-.4-.4-.92-.59-1.43-.59-.52 0-1.04.2-1.43.59L10.3 9.45l-7.72 7.72c-.78.78-.78 2.05 0 2.83L4 21.41c.39.39.9.59 1.41.59.51 0 1.02-.2 1.41-.59l7.78-7.78 2.81-2.81c.8-.78.8-2.07 0-2.86zM5.41 20L4 18.59l7.72-7.72 1.47 1.35L5.41 20z\"/>\n",
              "  </svg>\n",
              "      </button>\n",
              "      \n",
              "  <style>\n",
              "    .colab-df-container {\n",
              "      display:flex;\n",
              "      flex-wrap:wrap;\n",
              "      gap: 12px;\n",
              "    }\n",
              "\n",
              "    .colab-df-convert {\n",
              "      background-color: #E8F0FE;\n",
              "      border: none;\n",
              "      border-radius: 50%;\n",
              "      cursor: pointer;\n",
              "      display: none;\n",
              "      fill: #1967D2;\n",
              "      height: 32px;\n",
              "      padding: 0 0 0 0;\n",
              "      width: 32px;\n",
              "    }\n",
              "\n",
              "    .colab-df-convert:hover {\n",
              "      background-color: #E2EBFA;\n",
              "      box-shadow: 0px 1px 2px rgba(60, 64, 67, 0.3), 0px 1px 3px 1px rgba(60, 64, 67, 0.15);\n",
              "      fill: #174EA6;\n",
              "    }\n",
              "\n",
              "    [theme=dark] .colab-df-convert {\n",
              "      background-color: #3B4455;\n",
              "      fill: #D2E3FC;\n",
              "    }\n",
              "\n",
              "    [theme=dark] .colab-df-convert:hover {\n",
              "      background-color: #434B5C;\n",
              "      box-shadow: 0px 1px 3px 1px rgba(0, 0, 0, 0.15);\n",
              "      filter: drop-shadow(0px 1px 2px rgba(0, 0, 0, 0.3));\n",
              "      fill: #FFFFFF;\n",
              "    }\n",
              "  </style>\n",
              "\n",
              "      <script>\n",
              "        const buttonEl =\n",
              "          document.querySelector('#df-8ca237f6-6fa6-49a8-ad54-dd71955a5d57 button.colab-df-convert');\n",
              "        buttonEl.style.display =\n",
              "          google.colab.kernel.accessAllowed ? 'block' : 'none';\n",
              "\n",
              "        async function convertToInteractive(key) {\n",
              "          const element = document.querySelector('#df-8ca237f6-6fa6-49a8-ad54-dd71955a5d57');\n",
              "          const dataTable =\n",
              "            await google.colab.kernel.invokeFunction('convertToInteractive',\n",
              "                                                     [key], {});\n",
              "          if (!dataTable) return;\n",
              "\n",
              "          const docLinkHtml = 'Like what you see? Visit the ' +\n",
              "            '<a target=\"_blank\" href=https://colab.research.google.com/notebooks/data_table.ipynb>data table notebook</a>'\n",
              "            + ' to learn more about interactive tables.';\n",
              "          element.innerHTML = '';\n",
              "          dataTable['output_type'] = 'display_data';\n",
              "          await google.colab.output.renderOutput(dataTable, element);\n",
              "          const docLink = document.createElement('div');\n",
              "          docLink.innerHTML = docLinkHtml;\n",
              "          element.appendChild(docLink);\n",
              "        }\n",
              "      </script>\n",
              "    </div>\n",
              "  </div>\n",
              "  "
            ]
          },
          "metadata": {},
          "execution_count": 17
        }
      ]
    },
    {
      "cell_type": "code",
      "source": [
        "# convert Agent_Category int into categorical data\n",
        "data1['Agent_Category']=pd.Categorical(data1['Agent_Category'])\n",
        "data1.dtypes"
      ],
      "metadata": {
        "colab": {
          "base_uri": "https://localhost:8080/"
        },
        "id": "h6UDJzTM6R4d",
        "outputId": "1dd2d90d-9f9c-4fa8-8a46-62e03b8a818d"
      },
      "execution_count": 18,
      "outputs": [
        {
          "output_type": "execute_result",
          "data": {
            "text/plain": [
              "AGENT_CODE             object\n",
              "GAM_CODE               object\n",
              "Agent_Experience        int64\n",
              "REGION_NAME            object\n",
              "AFYP_Regular          float64\n",
              "AFYP_exclude_RTU      float64\n",
              "Cases                   int64\n",
              "Average_Case_Size     float64\n",
              "Agent_Category       category\n",
              "dtype: object"
            ]
          },
          "metadata": {},
          "execution_count": 18
        }
      ]
    },
    {
      "cell_type": "code",
      "source": [
        "#drop column\n",
        "data2=data1.drop(['AGENT_CODE','GAM_CODE','REGION_NAME'],axis=1)\n",
        "data2.head()"
      ],
      "metadata": {
        "colab": {
          "base_uri": "https://localhost:8080/",
          "height": 206
        },
        "id": "0L7pppCSFA7k",
        "outputId": "614cc493-4c14-425c-ac63-193646c45868"
      },
      "execution_count": 19,
      "outputs": [
        {
          "output_type": "execute_result",
          "data": {
            "text/plain": [
              "   Agent_Experience  AFYP_Regular  AFYP_exclude_RTU  Cases  Average_Case_Size  \\\n",
              "0                29       1920.00           1920.00      1        1920.000000   \n",
              "1                25     183464.60         183344.60     60        3057.743333   \n",
              "2                32      56899.68          55939.68     19        2994.720000   \n",
              "3                34       1133.04           1133.04      2         566.520000   \n",
              "4                36       6720.00           6480.00      4        1680.000000   \n",
              "\n",
              "  Agent_Category  \n",
              "0              1  \n",
              "1              0  \n",
              "2              1  \n",
              "3              1  \n",
              "4              1  "
            ],
            "text/html": [
              "\n",
              "  <div id=\"df-6414a0e1-5a68-4330-bfc3-21ed9b40106b\">\n",
              "    <div class=\"colab-df-container\">\n",
              "      <div>\n",
              "<style scoped>\n",
              "    .dataframe tbody tr th:only-of-type {\n",
              "        vertical-align: middle;\n",
              "    }\n",
              "\n",
              "    .dataframe tbody tr th {\n",
              "        vertical-align: top;\n",
              "    }\n",
              "\n",
              "    .dataframe thead th {\n",
              "        text-align: right;\n",
              "    }\n",
              "</style>\n",
              "<table border=\"1\" class=\"dataframe\">\n",
              "  <thead>\n",
              "    <tr style=\"text-align: right;\">\n",
              "      <th></th>\n",
              "      <th>Agent_Experience</th>\n",
              "      <th>AFYP_Regular</th>\n",
              "      <th>AFYP_exclude_RTU</th>\n",
              "      <th>Cases</th>\n",
              "      <th>Average_Case_Size</th>\n",
              "      <th>Agent_Category</th>\n",
              "    </tr>\n",
              "  </thead>\n",
              "  <tbody>\n",
              "    <tr>\n",
              "      <th>0</th>\n",
              "      <td>29</td>\n",
              "      <td>1920.00</td>\n",
              "      <td>1920.00</td>\n",
              "      <td>1</td>\n",
              "      <td>1920.000000</td>\n",
              "      <td>1</td>\n",
              "    </tr>\n",
              "    <tr>\n",
              "      <th>1</th>\n",
              "      <td>25</td>\n",
              "      <td>183464.60</td>\n",
              "      <td>183344.60</td>\n",
              "      <td>60</td>\n",
              "      <td>3057.743333</td>\n",
              "      <td>0</td>\n",
              "    </tr>\n",
              "    <tr>\n",
              "      <th>2</th>\n",
              "      <td>32</td>\n",
              "      <td>56899.68</td>\n",
              "      <td>55939.68</td>\n",
              "      <td>19</td>\n",
              "      <td>2994.720000</td>\n",
              "      <td>1</td>\n",
              "    </tr>\n",
              "    <tr>\n",
              "      <th>3</th>\n",
              "      <td>34</td>\n",
              "      <td>1133.04</td>\n",
              "      <td>1133.04</td>\n",
              "      <td>2</td>\n",
              "      <td>566.520000</td>\n",
              "      <td>1</td>\n",
              "    </tr>\n",
              "    <tr>\n",
              "      <th>4</th>\n",
              "      <td>36</td>\n",
              "      <td>6720.00</td>\n",
              "      <td>6480.00</td>\n",
              "      <td>4</td>\n",
              "      <td>1680.000000</td>\n",
              "      <td>1</td>\n",
              "    </tr>\n",
              "  </tbody>\n",
              "</table>\n",
              "</div>\n",
              "      <button class=\"colab-df-convert\" onclick=\"convertToInteractive('df-6414a0e1-5a68-4330-bfc3-21ed9b40106b')\"\n",
              "              title=\"Convert this dataframe to an interactive table.\"\n",
              "              style=\"display:none;\">\n",
              "        \n",
              "  <svg xmlns=\"http://www.w3.org/2000/svg\" height=\"24px\"viewBox=\"0 0 24 24\"\n",
              "       width=\"24px\">\n",
              "    <path d=\"M0 0h24v24H0V0z\" fill=\"none\"/>\n",
              "    <path d=\"M18.56 5.44l.94 2.06.94-2.06 2.06-.94-2.06-.94-.94-2.06-.94 2.06-2.06.94zm-11 1L8.5 8.5l.94-2.06 2.06-.94-2.06-.94L8.5 2.5l-.94 2.06-2.06.94zm10 10l.94 2.06.94-2.06 2.06-.94-2.06-.94-.94-2.06-.94 2.06-2.06.94z\"/><path d=\"M17.41 7.96l-1.37-1.37c-.4-.4-.92-.59-1.43-.59-.52 0-1.04.2-1.43.59L10.3 9.45l-7.72 7.72c-.78.78-.78 2.05 0 2.83L4 21.41c.39.39.9.59 1.41.59.51 0 1.02-.2 1.41-.59l7.78-7.78 2.81-2.81c.8-.78.8-2.07 0-2.86zM5.41 20L4 18.59l7.72-7.72 1.47 1.35L5.41 20z\"/>\n",
              "  </svg>\n",
              "      </button>\n",
              "      \n",
              "  <style>\n",
              "    .colab-df-container {\n",
              "      display:flex;\n",
              "      flex-wrap:wrap;\n",
              "      gap: 12px;\n",
              "    }\n",
              "\n",
              "    .colab-df-convert {\n",
              "      background-color: #E8F0FE;\n",
              "      border: none;\n",
              "      border-radius: 50%;\n",
              "      cursor: pointer;\n",
              "      display: none;\n",
              "      fill: #1967D2;\n",
              "      height: 32px;\n",
              "      padding: 0 0 0 0;\n",
              "      width: 32px;\n",
              "    }\n",
              "\n",
              "    .colab-df-convert:hover {\n",
              "      background-color: #E2EBFA;\n",
              "      box-shadow: 0px 1px 2px rgba(60, 64, 67, 0.3), 0px 1px 3px 1px rgba(60, 64, 67, 0.15);\n",
              "      fill: #174EA6;\n",
              "    }\n",
              "\n",
              "    [theme=dark] .colab-df-convert {\n",
              "      background-color: #3B4455;\n",
              "      fill: #D2E3FC;\n",
              "    }\n",
              "\n",
              "    [theme=dark] .colab-df-convert:hover {\n",
              "      background-color: #434B5C;\n",
              "      box-shadow: 0px 1px 3px 1px rgba(0, 0, 0, 0.15);\n",
              "      filter: drop-shadow(0px 1px 2px rgba(0, 0, 0, 0.3));\n",
              "      fill: #FFFFFF;\n",
              "    }\n",
              "  </style>\n",
              "\n",
              "      <script>\n",
              "        const buttonEl =\n",
              "          document.querySelector('#df-6414a0e1-5a68-4330-bfc3-21ed9b40106b button.colab-df-convert');\n",
              "        buttonEl.style.display =\n",
              "          google.colab.kernel.accessAllowed ? 'block' : 'none';\n",
              "\n",
              "        async function convertToInteractive(key) {\n",
              "          const element = document.querySelector('#df-6414a0e1-5a68-4330-bfc3-21ed9b40106b');\n",
              "          const dataTable =\n",
              "            await google.colab.kernel.invokeFunction('convertToInteractive',\n",
              "                                                     [key], {});\n",
              "          if (!dataTable) return;\n",
              "\n",
              "          const docLinkHtml = 'Like what you see? Visit the ' +\n",
              "            '<a target=\"_blank\" href=https://colab.research.google.com/notebooks/data_table.ipynb>data table notebook</a>'\n",
              "            + ' to learn more about interactive tables.';\n",
              "          element.innerHTML = '';\n",
              "          dataTable['output_type'] = 'display_data';\n",
              "          await google.colab.output.renderOutput(dataTable, element);\n",
              "          const docLink = document.createElement('div');\n",
              "          docLink.innerHTML = docLinkHtml;\n",
              "          element.appendChild(docLink);\n",
              "        }\n",
              "      </script>\n",
              "    </div>\n",
              "  </div>\n",
              "  "
            ]
          },
          "metadata": {},
          "execution_count": 19
        }
      ]
    },
    {
      "cell_type": "markdown",
      "source": [
        "**Check for Imbalance data**"
      ],
      "metadata": {
        "id": "3nPEQbRCzVBN"
      }
    },
    {
      "cell_type": "code",
      "source": [
        "data2['Agent_Category'].value_counts()\n",
        "# this is an imbalanced data"
      ],
      "metadata": {
        "colab": {
          "base_uri": "https://localhost:8080/"
        },
        "id": "eBwI34NSxbtS",
        "outputId": "c1960f6c-17e3-4ba9-c0d6-eeb26e619adf"
      },
      "execution_count": 20,
      "outputs": [
        {
          "output_type": "execute_result",
          "data": {
            "text/plain": [
              "1    340\n",
              "0     74\n",
              "Name: Agent_Category, dtype: int64"
            ]
          },
          "metadata": {},
          "execution_count": 20
        }
      ]
    },
    {
      "cell_type": "markdown",
      "source": [
        "Balance the data by using oversampling. Increase minority class samples using SMOTE (Synthetic Minority Oversampling Technique)."
      ],
      "metadata": {
        "id": "0LRDGl-L1IpN"
      }
    },
    {
      "cell_type": "code",
      "source": [
        "# Before apply SMOTE\n",
        "\n",
        "X, y = data2[['AFYP_Regular','Cases','Average_Case_Size','Agent_Experience','AFYP_exclude_RTU']], data2['Agent_Category']\n",
        "\n",
        "counter = Counter(y)\n",
        "for k,v in counter.items():\n",
        " per = v / len(y) * 100\n",
        " print('Class=%d, n=%d (%.3f%%)' % (k, v, per))"
      ],
      "metadata": {
        "colab": {
          "base_uri": "https://localhost:8080/"
        },
        "id": "f9ntXEHn8XsD",
        "outputId": "8e7f6ec6-1731-4b8b-8785-34a8dddcffdc"
      },
      "execution_count": 21,
      "outputs": [
        {
          "output_type": "stream",
          "name": "stdout",
          "text": [
            "Class=1, n=340 (82.126%)\n",
            "Class=0, n=74 (17.874%)\n"
          ]
        }
      ]
    },
    {
      "cell_type": "code",
      "source": [
        "X.shape"
      ],
      "metadata": {
        "colab": {
          "base_uri": "https://localhost:8080/"
        },
        "id": "-vnerSS570X4",
        "outputId": "f7552376-e52e-4d6d-8fa3-a16e8f72372a"
      },
      "execution_count": 22,
      "outputs": [
        {
          "output_type": "execute_result",
          "data": {
            "text/plain": [
              "(414, 5)"
            ]
          },
          "metadata": {},
          "execution_count": 22
        }
      ]
    },
    {
      "cell_type": "code",
      "source": [
        "plt.bar(counter.keys(), counter.values())\n",
        "plt.show()"
      ],
      "metadata": {
        "colab": {
          "base_uri": "https://localhost:8080/",
          "height": 430
        },
        "id": "sBKQ02tK_bDc",
        "outputId": "d04167d7-36a3-4430-db80-491746f03c2f"
      },
      "execution_count": 23,
      "outputs": [
        {
          "output_type": "display_data",
          "data": {
            "text/plain": [
              "<Figure size 640x480 with 1 Axes>"
            ],
            "image/png": "[encoded data removed]"
          },
          "metadata": {}
        }
      ]
    },
    {
      "cell_type": "code",
      "source": [
        "X"
      ],
      "metadata": {
        "colab": {
          "base_uri": "https://localhost:8080/",
          "height": 423
        },
        "id": "1D2hdSsh6_HE",
        "outputId": "4dae3fa2-4b09-4f86-f7e7-97280730f4b5"
      },
      "execution_count": 24,
      "outputs": [
        {
          "output_type": "execute_result",
          "data": {
            "text/plain": [
              "     AFYP_Regular  Cases  Average_Case_Size  Agent_Experience  \\\n",
              "0         1920.00      1        1920.000000                29   \n",
              "1       183464.60     60        3057.743333                25   \n",
              "2        56899.68     19        2994.720000                32   \n",
              "3         1133.04      2         566.520000                34   \n",
              "4         6720.00      4        1680.000000                36   \n",
              "..            ...    ...                ...               ...   \n",
              "409      39381.00      5        7876.200000                 1   \n",
              "410       6120.00      2        3060.000000                 1   \n",
              "411      56244.84      6        9374.140000                 1   \n",
              "412       4957.56      1        4957.560000                 1   \n",
              "413       4800.00      2        2400.000000                 1   \n",
              "\n",
              "     AFYP_exclude_RTU  \n",
              "0             1920.00  \n",
              "1           183344.60  \n",
              "2            55939.68  \n",
              "3             1133.04  \n",
              "4             6480.00  \n",
              "..                ...  \n",
              "409          39381.00  \n",
              "410           6000.00  \n",
              "411          50364.84  \n",
              "412           4957.56  \n",
              "413           4800.00  \n",
              "\n",
              "[414 rows x 5 columns]"
            ],
            "text/html": [
              "\n",
              "  <div id=\"df-b86c0571-f0db-473a-adf1-44f2400de101\">\n",
              "    <div class=\"colab-df-container\">\n",
              "      <div>\n",
              "<style scoped>\n",
              "    .dataframe tbody tr th:only-of-type {\n",
              "        vertical-align: middle;\n",
              "    }\n",
              "\n",
              "    .dataframe tbody tr th {\n",
              "        vertical-align: top;\n",
              "    }\n",
              "\n",
              "    .dataframe thead th {\n",
              "        text-align: right;\n",
              "    }\n",
              "</style>\n",
              "<table border=\"1\" class=\"dataframe\">\n",
              "  <thead>\n",
              "    <tr style=\"text-align: right;\">\n",
              "      <th></th>\n",
              "      <th>AFYP_Regular</th>\n",
              "      <th>Cases</th>\n",
              "      <th>Average_Case_Size</th>\n",
              "      <th>Agent_Experience</th>\n",
              "      <th>AFYP_exclude_RTU</th>\n",
              "    </tr>\n",
              "  </thead>\n",
              "  <tbody>\n",
              "    <tr>\n",
              "      <th>0</th>\n",
              "      <td>1920.00</td>\n",
              "      <td>1</td>\n",
              "      <td>1920.000000</td>\n",
              "      <td>29</td>\n",
              "      <td>1920.00</td>\n",
              "    </tr>\n",
              "    <tr>\n",
              "      <th>1</th>\n",
              "      <td>183464.60</td>\n",
              "      <td>60</td>\n",
              "      <td>3057.743333</td>\n",
              "      <td>25</td>\n",
              "      <td>183344.60</td>\n",
              "    </tr>\n",
              "    <tr>\n",
              "      <th>2</th>\n",
              "      <td>56899.68</td>\n",
              "      <td>19</td>\n",
              "      <td>2994.720000</td>\n",
              "      <td>32</td>\n",
              "      <td>55939.68</td>\n",
              "    </tr>\n",
              "    <tr>\n",
              "      <th>3</th>\n",
              "      <td>1133.04</td>\n",
              "      <td>2</td>\n",
              "      <td>566.520000</td>\n",
              "      <td>34</td>\n",
              "      <td>1133.04</td>\n",
              "    </tr>\n",
              "    <tr>\n",
              "      <th>4</th>\n",
              "      <td>6720.00</td>\n",
              "      <td>4</td>\n",
              "      <td>1680.000000</td>\n",
              "      <td>36</td>\n",
              "      <td>6480.00</td>\n",
              "    </tr>\n",
              "    <tr>\n",
              "      <th>...</th>\n",
              "      <td>...</td>\n",
              "      <td>...</td>\n",
              "      <td>...</td>\n",
              "      <td>...</td>\n",
              "      <td>...</td>\n",
              "    </tr>\n",
              "    <tr>\n",
              "      <th>409</th>\n",
              "      <td>39381.00</td>\n",
              "      <td>5</td>\n",
              "      <td>7876.200000</td>\n",
              "      <td>1</td>\n",
              "      <td>39381.00</td>\n",
              "    </tr>\n",
              "    <tr>\n",
              "      <th>410</th>\n",
              "      <td>6120.00</td>\n",
              "      <td>2</td>\n",
              "      <td>3060.000000</td>\n",
              "      <td>1</td>\n",
              "      <td>6000.00</td>\n",
              "    </tr>\n",
              "    <tr>\n",
              "      <th>411</th>\n",
              "      <td>56244.84</td>\n",
              "      <td>6</td>\n",
              "      <td>9374.140000</td>\n",
              "      <td>1</td>\n",
              "      <td>50364.84</td>\n",
              "    </tr>\n",
              "    <tr>\n",
              "      <th>412</th>\n",
              "      <td>4957.56</td>\n",
              "      <td>1</td>\n",
              "      <td>4957.560000</td>\n",
              "      <td>1</td>\n",
              "      <td>4957.56</td>\n",
              "    </tr>\n",
              "    <tr>\n",
              "      <th>413</th>\n",
              "      <td>4800.00</td>\n",
              "      <td>2</td>\n",
              "      <td>2400.000000</td>\n",
              "      <td>1</td>\n",
              "      <td>4800.00</td>\n",
              "    </tr>\n",
              "  </tbody>\n",
              "</table>\n",
              "<p>414 rows × 5 columns</p>\n",
              "</div>\n",
              "      <button class=\"colab-df-convert\" onclick=\"convertToInteractive('df-b86c0571-f0db-473a-adf1-44f2400de101')\"\n",
              "              title=\"Convert this dataframe to an interactive table.\"\n",
              "              style=\"display:none;\">\n",
              "        \n",
              "  <svg xmlns=\"http://www.w3.org/2000/svg\" height=\"24px\"viewBox=\"0 0 24 24\"\n",
              "       width=\"24px\">\n",
              "    <path d=\"M0 0h24v24H0V0z\" fill=\"none\"/>\n",
              "    <path d=\"M18.56 5.44l.94 2.06.94-2.06 2.06-.94-2.06-.94-.94-2.06-.94 2.06-2.06.94zm-11 1L8.5 8.5l.94-2.06 2.06-.94-2.06-.94L8.5 2.5l-.94 2.06-2.06.94zm10 10l.94 2.06.94-2.06 2.06-.94-2.06-.94-.94-2.06-.94 2.06-2.06.94z\"/><path d=\"M17.41 7.96l-1.37-1.37c-.4-.4-.92-.59-1.43-.59-.52 0-1.04.2-1.43.59L10.3 9.45l-7.72 7.72c-.78.78-.78 2.05 0 2.83L4 21.41c.39.39.9.59 1.41.59.51 0 1.02-.2 1.41-.59l7.78-7.78 2.81-2.81c.8-.78.8-2.07 0-2.86zM5.41 20L4 18.59l7.72-7.72 1.47 1.35L5.41 20z\"/>\n",
              "  </svg>\n",
              "      </button>\n",
              "      \n",
              "  <style>\n",
              "    .colab-df-container {\n",
              "      display:flex;\n",
              "      flex-wrap:wrap;\n",
              "      gap: 12px;\n",
              "    }\n",
              "\n",
              "    .colab-df-convert {\n",
              "      background-color: #E8F0FE;\n",
              "      border: none;\n",
              "      border-radius: 50%;\n",
              "      cursor: pointer;\n",
              "      display: none;\n",
              "      fill: #1967D2;\n",
              "      height: 32px;\n",
              "      padding: 0 0 0 0;\n",
              "      width: 32px;\n",
              "    }\n",
              "\n",
              "    .colab-df-convert:hover {\n",
              "      background-color: #E2EBFA;\n",
              "      box-shadow: 0px 1px 2px rgba(60, 64, 67, 0.3), 0px 1px 3px 1px rgba(60, 64, 67, 0.15);\n",
              "      fill: #174EA6;\n",
              "    }\n",
              "\n",
              "    [theme=dark] .colab-df-convert {\n",
              "      background-color: #3B4455;\n",
              "      fill: #D2E3FC;\n",
              "    }\n",
              "\n",
              "    [theme=dark] .colab-df-convert:hover {\n",
              "      background-color: #434B5C;\n",
              "      box-shadow: 0px 1px 3px 1px rgba(0, 0, 0, 0.15);\n",
              "      filter: drop-shadow(0px 1px 2px rgba(0, 0, 0, 0.3));\n",
              "      fill: #FFFFFF;\n",
              "    }\n",
              "  </style>\n",
              "\n",
              "      <script>\n",
              "        const buttonEl =\n",
              "          document.querySelector('#df-b86c0571-f0db-473a-adf1-44f2400de101 button.colab-df-convert');\n",
              "        buttonEl.style.display =\n",
              "          google.colab.kernel.accessAllowed ? 'block' : 'none';\n",
              "\n",
              "        async function convertToInteractive(key) {\n",
              "          const element = document.querySelector('#df-b86c0571-f0db-473a-adf1-44f2400de101');\n",
              "          const dataTable =\n",
              "            await google.colab.kernel.invokeFunction('convertToInteractive',\n",
              "                                                     [key], {});\n",
              "          if (!dataTable) return;\n",
              "\n",
              "          const docLinkHtml = 'Like what you see? Visit the ' +\n",
              "            '<a target=\"_blank\" href=https://colab.research.google.com/notebooks/data_table.ipynb>data table notebook</a>'\n",
              "            + ' to learn more about interactive tables.';\n",
              "          element.innerHTML = '';\n",
              "          dataTable['output_type'] = 'display_data';\n",
              "          await google.colab.output.renderOutput(dataTable, element);\n",
              "          const docLink = document.createElement('div');\n",
              "          docLink.innerHTML = docLinkHtml;\n",
              "          element.appendChild(docLink);\n",
              "        }\n",
              "      </script>\n",
              "    </div>\n",
              "  </div>\n",
              "  "
            ]
          },
          "metadata": {},
          "execution_count": 24
        }
      ]
    },
    {
      "cell_type": "code",
      "source": [
        "from imblearn.over_sampling import SMOTE\n",
        "\n",
        "#transform dataset\n",
        "oversample = SMOTE()\n",
        "X, Y = oversample.fit_resample(X,y)\n",
        "\n",
        "#summarize the new class distribution\n",
        "counter = Counter(Y)\n",
        "print(counter)\n"
      ],
      "metadata": {
        "colab": {
          "base_uri": "https://localhost:8080/"
        },
        "id": "G9hjqEwy_s2C",
        "outputId": "49aafae7-f542-4625-c452-e753d3a8cb0e"
      },
      "execution_count": 25,
      "outputs": [
        {
          "output_type": "stream",
          "name": "stdout",
          "text": [
            "Counter({1: 340, 0: 340})\n"
          ]
        }
      ]
    },
    {
      "cell_type": "code",
      "source": [
        "X.shape"
      ],
      "metadata": {
        "colab": {
          "base_uri": "https://localhost:8080/"
        },
        "id": "m_Hsn5QO6fyN",
        "outputId": "ca99be25-9185-4960-9827-9ad4f3bb74bf"
      },
      "execution_count": 26,
      "outputs": [
        {
          "output_type": "execute_result",
          "data": {
            "text/plain": [
              "(680, 5)"
            ]
          },
          "metadata": {},
          "execution_count": 26
        }
      ]
    },
    {
      "cell_type": "code",
      "source": [
        "y.shape"
      ],
      "metadata": {
        "colab": {
          "base_uri": "https://localhost:8080/"
        },
        "id": "RKg75FDX6hpP",
        "outputId": "ba782311-b8d1-4ba6-d554-bca50d104aaa"
      },
      "execution_count": 27,
      "outputs": [
        {
          "output_type": "execute_result",
          "data": {
            "text/plain": [
              "(414,)"
            ]
          },
          "metadata": {},
          "execution_count": 27
        }
      ]
    },
    {
      "cell_type": "code",
      "source": [
        "Y.shape"
      ],
      "metadata": {
        "colab": {
          "base_uri": "https://localhost:8080/"
        },
        "id": "SREw3119k_r8",
        "outputId": "3a1a6166-bd65-4ff4-df9b-5286ecea968b"
      },
      "execution_count": 55,
      "outputs": [
        {
          "output_type": "execute_result",
          "data": {
            "text/plain": [
              "(680,)"
            ]
          },
          "metadata": {},
          "execution_count": 55
        }
      ]
    },
    {
      "cell_type": "code",
      "source": [
        "plt.bar(counter.keys(), counter.values())\n",
        "plt.show()"
      ],
      "metadata": {
        "colab": {
          "base_uri": "https://localhost:8080/",
          "height": 430
        },
        "id": "obntDRkX8he-",
        "outputId": "90a5e74d-8fdd-49f5-f8a3-cab4edf658ec"
      },
      "execution_count": 28,
      "outputs": [
        {
          "output_type": "display_data",
          "data": {
            "text/plain": [
              "<Figure size 640x480 with 1 Axes>"
            ],
            "image/png": "[encoded data removed]"
          },
          "metadata": {}
        }
      ]
    },
    {
      "cell_type": "markdown",
      "source": [
        "# **Scaling of Data**"
      ],
      "metadata": {
        "id": "BZmMglHeCpDD"
      }
    },
    {
      "cell_type": "code",
      "source": [
        "#Normalizing the data\n",
        "from sklearn.preprocessing import StandardScaler\n",
        "sc = StandardScaler()\n",
        "normalised = sc.fit_transform(X)\n",
        "print('Normalized data:')\n",
        "data2_normalised = pd.DataFrame(normalised,columns=X.columns)\n",
        "data2_normalised.head()"
      ],
      "metadata": {
        "colab": {
          "base_uri": "https://localhost:8080/",
          "height": 223
        },
        "id": "3C85Wt-cHApt",
        "outputId": "4260def9-4df4-4fa8-fbb5-e49c06ed6709"
      },
      "execution_count": 29,
      "outputs": [
        {
          "output_type": "stream",
          "name": "stdout",
          "text": [
            "Normalized data:\n"
          ]
        },
        {
          "output_type": "execute_result",
          "data": {
            "text/plain": [
              "   AFYP_Regular     Cases  Average_Case_Size  Agent_Experience  \\\n",
              "0     -0.644786 -0.888897          -0.257186          2.702276   \n",
              "1      0.048226  0.930064          -0.214757          2.207980   \n",
              "2     -0.434912 -0.333960          -0.217107          3.072999   \n",
              "3     -0.647790 -0.858067          -0.307661          3.320147   \n",
              "4     -0.626463 -0.796407          -0.266137          3.567295   \n",
              "\n",
              "   AFYP_exclude_RTU  \n",
              "0         -0.823052  \n",
              "1          0.319784  \n",
              "2         -0.482769  \n",
              "3         -0.828009  \n",
              "4         -0.794328  "
            ],
            "text/html": [
              "\n",
              "  <div id=\"df-469f1432-629f-4b29-87b1-2b2bbd608677\">\n",
              "    <div class=\"colab-df-container\">\n",
              "      <div>\n",
              "<style scoped>\n",
              "    .dataframe tbody tr th:only-of-type {\n",
              "        vertical-align: middle;\n",
              "    }\n",
              "\n",
              "    .dataframe tbody tr th {\n",
              "        vertical-align: top;\n",
              "    }\n",
              "\n",
              "    .dataframe thead th {\n",
              "        text-align: right;\n",
              "    }\n",
              "</style>\n",
              "<table border=\"1\" class=\"dataframe\">\n",
              "  <thead>\n",
              "    <tr style=\"text-align: right;\">\n",
              "      <th></th>\n",
              "      <th>AFYP_Regular</th>\n",
              "      <th>Cases</th>\n",
              "      <th>Average_Case_Size</th>\n",
              "      <th>Agent_Experience</th>\n",
              "      <th>AFYP_exclude_RTU</th>\n",
              "    </tr>\n",
              "  </thead>\n",
              "  <tbody>\n",
              "    <tr>\n",
              "      <th>0</th>\n",
              "      <td>-0.644786</td>\n",
              "      <td>-0.888897</td>\n",
              "      <td>-0.257186</td>\n",
              "      <td>2.702276</td>\n",
              "      <td>-0.823052</td>\n",
              "    </tr>\n",
              "    <tr>\n",
              "      <th>1</th>\n",
              "      <td>0.048226</td>\n",
              "      <td>0.930064</td>\n",
              "      <td>-0.214757</td>\n",
              "      <td>2.207980</td>\n",
              "      <td>0.319784</td>\n",
              "    </tr>\n",
              "    <tr>\n",
              "      <th>2</th>\n",
              "      <td>-0.434912</td>\n",
              "      <td>-0.333960</td>\n",
              "      <td>-0.217107</td>\n",
              "      <td>3.072999</td>\n",
              "      <td>-0.482769</td>\n",
              "    </tr>\n",
              "    <tr>\n",
              "      <th>3</th>\n",
              "      <td>-0.647790</td>\n",
              "      <td>-0.858067</td>\n",
              "      <td>-0.307661</td>\n",
              "      <td>3.320147</td>\n",
              "      <td>-0.828009</td>\n",
              "    </tr>\n",
              "    <tr>\n",
              "      <th>4</th>\n",
              "      <td>-0.626463</td>\n",
              "      <td>-0.796407</td>\n",
              "      <td>-0.266137</td>\n",
              "      <td>3.567295</td>\n",
              "      <td>-0.794328</td>\n",
              "    </tr>\n",
              "  </tbody>\n",
              "</table>\n",
              "</div>\n",
              "      <button class=\"colab-df-convert\" onclick=\"convertToInteractive('df-469f1432-629f-4b29-87b1-2b2bbd608677')\"\n",
              "              title=\"Convert this dataframe to an interactive table.\"\n",
              "              style=\"display:none;\">\n",
              "        \n",
              "  <svg xmlns=\"http://www.w3.org/2000/svg\" height=\"24px\"viewBox=\"0 0 24 24\"\n",
              "       width=\"24px\">\n",
              "    <path d=\"M0 0h24v24H0V0z\" fill=\"none\"/>\n",
              "    <path d=\"M18.56 5.44l.94 2.06.94-2.06 2.06-.94-2.06-.94-.94-2.06-.94 2.06-2.06.94zm-11 1L8.5 8.5l.94-2.06 2.06-.94-2.06-.94L8.5 2.5l-.94 2.06-2.06.94zm10 10l.94 2.06.94-2.06 2.06-.94-2.06-.94-.94-2.06-.94 2.06-2.06.94z\"/><path d=\"M17.41 7.96l-1.37-1.37c-.4-.4-.92-.59-1.43-.59-.52 0-1.04.2-1.43.59L10.3 9.45l-7.72 7.72c-.78.78-.78 2.05 0 2.83L4 21.41c.39.39.9.59 1.41.59.51 0 1.02-.2 1.41-.59l7.78-7.78 2.81-2.81c.8-.78.8-2.07 0-2.86zM5.41 20L4 18.59l7.72-7.72 1.47 1.35L5.41 20z\"/>\n",
              "  </svg>\n",
              "      </button>\n",
              "      \n",
              "  <style>\n",
              "    .colab-df-container {\n",
              "      display:flex;\n",
              "      flex-wrap:wrap;\n",
              "      gap: 12px;\n",
              "    }\n",
              "\n",
              "    .colab-df-convert {\n",
              "      background-color: #E8F0FE;\n",
              "      border: none;\n",
              "      border-radius: 50%;\n",
              "      cursor: pointer;\n",
              "      display: none;\n",
              "      fill: #1967D2;\n",
              "      height: 32px;\n",
              "      padding: 0 0 0 0;\n",
              "      width: 32px;\n",
              "    }\n",
              "\n",
              "    .colab-df-convert:hover {\n",
              "      background-color: #E2EBFA;\n",
              "      box-shadow: 0px 1px 2px rgba(60, 64, 67, 0.3), 0px 1px 3px 1px rgba(60, 64, 67, 0.15);\n",
              "      fill: #174EA6;\n",
              "    }\n",
              "\n",
              "    [theme=dark] .colab-df-convert {\n",
              "      background-color: #3B4455;\n",
              "      fill: #D2E3FC;\n",
              "    }\n",
              "\n",
              "    [theme=dark] .colab-df-convert:hover {\n",
              "      background-color: #434B5C;\n",
              "      box-shadow: 0px 1px 3px 1px rgba(0, 0, 0, 0.15);\n",
              "      filter: drop-shadow(0px 1px 2px rgba(0, 0, 0, 0.3));\n",
              "      fill: #FFFFFF;\n",
              "    }\n",
              "  </style>\n",
              "\n",
              "      <script>\n",
              "        const buttonEl =\n",
              "          document.querySelector('#df-469f1432-629f-4b29-87b1-2b2bbd608677 button.colab-df-convert');\n",
              "        buttonEl.style.display =\n",
              "          google.colab.kernel.accessAllowed ? 'block' : 'none';\n",
              "\n",
              "        async function convertToInteractive(key) {\n",
              "          const element = document.querySelector('#df-469f1432-629f-4b29-87b1-2b2bbd608677');\n",
              "          const dataTable =\n",
              "            await google.colab.kernel.invokeFunction('convertToInteractive',\n",
              "                                                     [key], {});\n",
              "          if (!dataTable) return;\n",
              "\n",
              "          const docLinkHtml = 'Like what you see? Visit the ' +\n",
              "            '<a target=\"_blank\" href=https://colab.research.google.com/notebooks/data_table.ipynb>data table notebook</a>'\n",
              "            + ' to learn more about interactive tables.';\n",
              "          element.innerHTML = '';\n",
              "          dataTable['output_type'] = 'display_data';\n",
              "          await google.colab.output.renderOutput(dataTable, element);\n",
              "          const docLink = document.createElement('div');\n",
              "          docLink.innerHTML = docLinkHtml;\n",
              "          element.appendChild(docLink);\n",
              "        }\n",
              "      </script>\n",
              "    </div>\n",
              "  </div>\n",
              "  "
            ]
          },
          "metadata": {},
          "execution_count": 29
        }
      ]
    },
    {
      "cell_type": "markdown",
      "source": [
        "# **Data Splitting**"
      ],
      "metadata": {
        "id": "w5qyyNlFHQFT"
      }
    },
    {
      "cell_type": "code",
      "source": [
        "X.shape"
      ],
      "metadata": {
        "colab": {
          "base_uri": "https://localhost:8080/"
        },
        "id": "3LKc42ntHfG5",
        "outputId": "8c8b7185-4d99-4d3c-f13b-6f9b9bb2aa02"
      },
      "execution_count": 30,
      "outputs": [
        {
          "output_type": "execute_result",
          "data": {
            "text/plain": [
              "(680, 5)"
            ]
          },
          "metadata": {},
          "execution_count": 30
        }
      ]
    },
    {
      "cell_type": "code",
      "source": [
        "y.shape"
      ],
      "metadata": {
        "colab": {
          "base_uri": "https://localhost:8080/"
        },
        "id": "QrPr6tOzHgLH",
        "outputId": "d11fc702-1de5-43c0-840e-6c9eaca9d841"
      },
      "execution_count": 31,
      "outputs": [
        {
          "output_type": "execute_result",
          "data": {
            "text/plain": [
              "(414,)"
            ]
          },
          "metadata": {},
          "execution_count": 31
        }
      ]
    },
    {
      "cell_type": "code",
      "source": [
        "# train test split of model\n",
        "\n",
        "from sklearn.model_selection import train_test_split\n",
        "X_train,X_test,y_train,y_test = train_test_split(X,Y,test_size = 0.2,random_state = 0)"
      ],
      "metadata": {
        "id": "SYc3o_HzH0RC"
      },
      "execution_count": 32,
      "outputs": []
    },
    {
      "cell_type": "markdown",
      "source": [
        "# **Create FNN Model**"
      ],
      "metadata": {
        "id": "v4U8W-TaUvqf"
      }
    },
    {
      "cell_type": "code",
      "source": [
        "import keras\n",
        "from keras.models import Sequential\n",
        "from keras.layers import Dense"
      ],
      "metadata": {
        "id": "9UmhklgETUnL"
      },
      "execution_count": 33,
      "outputs": []
    },
    {
      "cell_type": "code",
      "source": [
        "X_train.shape"
      ],
      "metadata": {
        "colab": {
          "base_uri": "https://localhost:8080/"
        },
        "id": "kH4XBEK_40fp",
        "outputId": "1a34a1d3-cebe-4dac-e0cd-2355db8828a4"
      },
      "execution_count": 34,
      "outputs": [
        {
          "output_type": "execute_result",
          "data": {
            "text/plain": [
              "(544, 5)"
            ]
          },
          "metadata": {},
          "execution_count": 34
        }
      ]
    },
    {
      "cell_type": "code",
      "source": [
        "np.unique(Y,return_counts=True) # to check balance data"
      ],
      "metadata": {
        "colab": {
          "base_uri": "https://localhost:8080/"
        },
        "id": "nWyxFCom_oQu",
        "outputId": "9c5503c3-5093-40e3-b266-42622ca8ed3b"
      },
      "execution_count": 35,
      "outputs": [
        {
          "output_type": "execute_result",
          "data": {
            "text/plain": [
              "(array([0, 1]), array([340, 340]))"
            ]
          },
          "metadata": {},
          "execution_count": 35
        }
      ]
    },
    {
      "cell_type": "code",
      "source": [
        "# create model, output type: binary outcome, Loss function: binary cross entrophy\n",
        "\n",
        "model = Sequential()\n",
        "model.add(Dense(256, input_dim=5, activation='relu'))  # input layer\n",
        "model.add(Dense(256, activation='relu')) # hidden layer\n",
        "model.add(Dense(128, activation='relu')) # hidden layer\n",
        "model.add(Dense(1, activation='sigmoid')) # output layer"
      ],
      "metadata": {
        "id": "NvZ85MhDAVVV"
      },
      "execution_count": 36,
      "outputs": []
    },
    {
      "cell_type": "code",
      "source": [
        "#To visualize neural network\n",
        "model.summary()"
      ],
      "metadata": {
        "colab": {
          "base_uri": "https://localhost:8080/"
        },
        "id": "jLD3Tf4xA_w7",
        "outputId": "41d7d280-f68a-448c-acdc-80290d8458a2"
      },
      "execution_count": 37,
      "outputs": [
        {
          "output_type": "stream",
          "name": "stdout",
          "text": [
            "Model: \"sequential\"\n",
            "_________________________________________________________________\n",
            " Layer (type)                Output Shape              Param #   \n",
            "=================================================================\n",
            " dense (Dense)               (None, 256)               1536      \n",
            "                                                                 \n",
            " dense_1 (Dense)             (None, 256)               65792     \n",
            "                                                                 \n",
            " dense_2 (Dense)             (None, 128)               32896     \n",
            "                                                                 \n",
            " dense_3 (Dense)             (None, 1)                 129       \n",
            "                                                                 \n",
            "=================================================================\n",
            "Total params: 100,353\n",
            "Trainable params: 100,353\n",
            "Non-trainable params: 0\n",
            "_________________________________________________________________\n"
          ]
        }
      ]
    },
    {
      "cell_type": "code",
      "source": [
        "# create a loss function\n",
        "model.compile(loss='binary_crossentropy', optimizer='adam', metrics=['accuracy'])"
      ],
      "metadata": {
        "id": "oBL3xMvnCsio"
      },
      "execution_count": 38,
      "outputs": []
    },
    {
      "cell_type": "code",
      "source": [
        "X.shape"
      ],
      "metadata": {
        "colab": {
          "base_uri": "https://localhost:8080/"
        },
        "id": "HWpv0_SCDCX4",
        "outputId": "4a750198-e540-429d-fae7-89f4b351aeea"
      },
      "execution_count": 39,
      "outputs": [
        {
          "output_type": "execute_result",
          "data": {
            "text/plain": [
              "(680, 5)"
            ]
          },
          "metadata": {},
          "execution_count": 39
        }
      ]
    },
    {
      "cell_type": "code",
      "source": [
        "Y.shape"
      ],
      "metadata": {
        "colab": {
          "base_uri": "https://localhost:8080/"
        },
        "id": "DSy822PVDLav",
        "outputId": "6f30aa46-78de-4d89-b722-c2508464ff3a"
      },
      "execution_count": 40,
      "outputs": [
        {
          "output_type": "execute_result",
          "data": {
            "text/plain": [
              "(680,)"
            ]
          },
          "metadata": {},
          "execution_count": 40
        }
      ]
    },
    {
      "cell_type": "code",
      "source": [
        "680/20"
      ],
      "metadata": {
        "colab": {
          "base_uri": "https://localhost:8080/"
        },
        "id": "9U8xeIqeIzA4",
        "outputId": "1bf56f2a-69c3-431f-d86e-9ee5207d52d2"
      },
      "execution_count": 41,
      "outputs": [
        {
          "output_type": "execute_result",
          "data": {
            "text/plain": [
              "34.0"
            ]
          },
          "metadata": {},
          "execution_count": 41
        }
      ]
    },
    {
      "cell_type": "code",
      "source": [
        "history = model.fit(X_train, y_train, epochs=25, batch_size=90)"
      ],
      "metadata": {
        "colab": {
          "base_uri": "https://localhost:8080/"
        },
        "id": "OWbHOzCrDPwF",
        "outputId": "c9d5d6eb-1e49-4b8f-bc5e-9d6fb21d251d"
      },
      "execution_count": 42,
      "outputs": [
        {
          "output_type": "stream",
          "name": "stdout",
          "text": [
            "Epoch 1/25\n",
            "7/7 [==============================] - 1s 12ms/step - loss: 3342.1184 - accuracy: 0.5184\n",
            "Epoch 2/25\n",
            "7/7 [==============================] - 0s 10ms/step - loss: 2889.1230 - accuracy: 0.4945\n",
            "Epoch 3/25\n",
            "7/7 [==============================] - 0s 10ms/step - loss: 1068.5067 - accuracy: 0.5809\n",
            "Epoch 4/25\n",
            "7/7 [==============================] - 0s 8ms/step - loss: 743.3926 - accuracy: 0.6268\n",
            "Epoch 5/25\n",
            "7/7 [==============================] - 0s 8ms/step - loss: 672.9145 - accuracy: 0.6029\n",
            "Epoch 6/25\n",
            "7/7 [==============================] - 0s 9ms/step - loss: 141.4711 - accuracy: 0.7739\n",
            "Epoch 7/25\n",
            "7/7 [==============================] - 0s 8ms/step - loss: 245.5674 - accuracy: 0.7390\n",
            "Epoch 8/25\n",
            "7/7 [==============================] - 0s 9ms/step - loss: 118.2541 - accuracy: 0.8162\n",
            "Epoch 9/25\n",
            "7/7 [==============================] - 0s 10ms/step - loss: 88.9189 - accuracy: 0.8603\n",
            "Epoch 10/25\n",
            "7/7 [==============================] - 0s 11ms/step - loss: 45.3883 - accuracy: 0.8934\n",
            "Epoch 11/25\n",
            "7/7 [==============================] - 0s 10ms/step - loss: 229.8762 - accuracy: 0.7500\n",
            "Epoch 12/25\n",
            "7/7 [==============================] - 0s 10ms/step - loss: 193.5333 - accuracy: 0.8088\n",
            "Epoch 13/25\n",
            "7/7 [==============================] - 0s 8ms/step - loss: 471.8736 - accuracy: 0.7408\n",
            "Epoch 14/25\n",
            "7/7 [==============================] - 0s 8ms/step - loss: 500.2183 - accuracy: 0.7022\n",
            "Epoch 15/25\n",
            "7/7 [==============================] - 0s 8ms/step - loss: 111.5799 - accuracy: 0.8438\n",
            "Epoch 16/25\n",
            "7/7 [==============================] - 0s 8ms/step - loss: 338.9985 - accuracy: 0.7537\n",
            "Epoch 17/25\n",
            "7/7 [==============================] - 0s 8ms/step - loss: 169.5757 - accuracy: 0.8419\n",
            "Epoch 18/25\n",
            "7/7 [==============================] - 0s 10ms/step - loss: 43.4990 - accuracy: 0.9026\n",
            "Epoch 19/25\n",
            "7/7 [==============================] - 0s 9ms/step - loss: 300.4185 - accuracy: 0.7537\n",
            "Epoch 20/25\n",
            "7/7 [==============================] - 0s 8ms/step - loss: 408.1556 - accuracy: 0.7408\n",
            "Epoch 21/25\n",
            "7/7 [==============================] - 0s 9ms/step - loss: 113.0577 - accuracy: 0.8621\n",
            "Epoch 22/25\n",
            "7/7 [==============================] - 0s 8ms/step - loss: 123.0566 - accuracy: 0.8456\n",
            "Epoch 23/25\n",
            "7/7 [==============================] - 0s 9ms/step - loss: 54.5060 - accuracy: 0.8897\n",
            "Epoch 24/25\n",
            "7/7 [==============================] - 0s 11ms/step - loss: 71.7012 - accuracy: 0.8787\n",
            "Epoch 25/25\n",
            "7/7 [==============================] - 0s 10ms/step - loss: 91.9599 - accuracy: 0.8658\n"
          ]
        }
      ]
    },
    {
      "cell_type": "code",
      "source": [
        "y_pred = model.predict(X_test)\n",
        "\n",
        "#Converting predictions to label\n",
        "pred = list()\n",
        "for i in range(len(y_pred)):\n",
        "    pred.append(np.argmax(y_pred[i]))"
      ],
      "metadata": {
        "colab": {
          "base_uri": "https://localhost:8080/"
        },
        "id": "z-pfk4I2FWUF",
        "outputId": "d0fc9ed1-3ffe-4d85-97da-f042797ab0ad"
      },
      "execution_count": 43,
      "outputs": [
        {
          "output_type": "stream",
          "name": "stdout",
          "text": [
            "5/5 [==============================] - 0s 3ms/step\n"
          ]
        }
      ]
    },
    {
      "cell_type": "code",
      "source": [
        "test  = y_test.to_list()\n",
        "print(test)"
      ],
      "metadata": {
        "colab": {
          "base_uri": "https://localhost:8080/"
        },
        "id": "KrBThEbjJCVk",
        "outputId": "3b71c153-9086-4fcd-ee2b-64934ce054ce"
      },
      "execution_count": 44,
      "outputs": [
        {
          "output_type": "stream",
          "name": "stdout",
          "text": [
            "[1, 0, 1, 0, 1, 0, 1, 0, 0, 0, 1, 1, 0, 0, 0, 0, 0, 1, 1, 1, 0, 1, 1, 0, 0, 0, 0, 1, 0, 1, 1, 0, 0, 1, 0, 0, 1, 0, 1, 1, 1, 1, 0, 0, 0, 0, 0, 0, 1, 0, 0, 0, 1, 0, 1, 0, 1, 0, 0, 1, 1, 0, 1, 0, 1, 0, 1, 1, 0, 1, 0, 1, 0, 1, 1, 1, 1, 0, 0, 1, 0, 0, 1, 0, 0, 1, 0, 0, 1, 1, 0, 0, 1, 1, 1, 1, 0, 1, 1, 0, 0, 1, 0, 1, 1, 0, 1, 0, 0, 0, 0, 1, 1, 0, 1, 0, 0, 0, 1, 1, 1, 0, 1, 0, 1, 0, 1, 1, 0, 1, 0, 1, 0, 0, 0, 1]\n"
          ]
        }
      ]
    },
    {
      "cell_type": "code",
      "source": [
        "from sklearn.metrics import accuracy_score\n",
        "a = accuracy_score(pred,test)\n",
        "print('Accuracy is:', a*100)"
      ],
      "metadata": {
        "colab": {
          "base_uri": "https://localhost:8080/"
        },
        "id": "23asulKbIHnJ",
        "outputId": "7f7a533e-a87d-4640-f5d2-a34d6f3b425d"
      },
      "execution_count": 45,
      "outputs": [
        {
          "output_type": "stream",
          "name": "stdout",
          "text": [
            "Accuracy is: 52.94117647058824\n"
          ]
        }
      ]
    },
    {
      "cell_type": "code",
      "source": [
        "#Using test data as validation data.\n",
        "history1 = model.fit(X_train, y_train,validation_data = (X_test,y_test), epochs=25, batch_size=90)"
      ],
      "metadata": {
        "colab": {
          "base_uri": "https://localhost:8080/"
        },
        "id": "9hdOH8xxG3Td",
        "outputId": "ff50d5c9-2f96-4fcc-ae89-8e82038d761f"
      },
      "execution_count": 46,
      "outputs": [
        {
          "output_type": "stream",
          "name": "stdout",
          "text": [
            "Epoch 1/25\n",
            "7/7 [==============================] - 0s 54ms/step - loss: 49.1780 - accuracy: 0.8934 - val_loss: 64.4393 - val_accuracy: 0.8750\n",
            "Epoch 2/25\n",
            "7/7 [==============================] - 0s 16ms/step - loss: 43.0582 - accuracy: 0.9118 - val_loss: 48.0113 - val_accuracy: 0.9044\n",
            "Epoch 3/25\n",
            "7/7 [==============================] - 0s 16ms/step - loss: 37.9155 - accuracy: 0.9154 - val_loss: 49.9881 - val_accuracy: 0.8897\n",
            "Epoch 4/25\n",
            "7/7 [==============================] - 0s 13ms/step - loss: 40.6418 - accuracy: 0.9081 - val_loss: 40.4545 - val_accuracy: 0.8897\n",
            "Epoch 5/25\n",
            "7/7 [==============================] - 0s 18ms/step - loss: 31.2108 - accuracy: 0.9173 - val_loss: 49.8206 - val_accuracy: 0.8897\n",
            "Epoch 6/25\n",
            "7/7 [==============================] - 0s 15ms/step - loss: 41.9095 - accuracy: 0.8952 - val_loss: 47.5013 - val_accuracy: 0.8897\n",
            "Epoch 7/25\n",
            "7/7 [==============================] - 0s 16ms/step - loss: 44.3585 - accuracy: 0.8915 - val_loss: 128.1157 - val_accuracy: 0.8015\n",
            "Epoch 8/25\n",
            "7/7 [==============================] - 0s 13ms/step - loss: 45.8289 - accuracy: 0.8952 - val_loss: 149.2729 - val_accuracy: 0.7941\n",
            "Epoch 9/25\n",
            "7/7 [==============================] - 0s 13ms/step - loss: 67.8884 - accuracy: 0.8713 - val_loss: 103.1021 - val_accuracy: 0.8676\n",
            "Epoch 10/25\n",
            "7/7 [==============================] - 0s 13ms/step - loss: 68.9787 - accuracy: 0.8860 - val_loss: 52.1080 - val_accuracy: 0.8750\n",
            "Epoch 11/25\n",
            "7/7 [==============================] - 0s 14ms/step - loss: 36.9391 - accuracy: 0.9044 - val_loss: 35.9400 - val_accuracy: 0.8971\n",
            "Epoch 12/25\n",
            "7/7 [==============================] - 0s 12ms/step - loss: 31.2437 - accuracy: 0.9191 - val_loss: 43.9240 - val_accuracy: 0.8897\n",
            "Epoch 13/25\n",
            "7/7 [==============================] - 0s 12ms/step - loss: 31.3323 - accuracy: 0.9154 - val_loss: 33.9922 - val_accuracy: 0.8971\n",
            "Epoch 14/25\n",
            "7/7 [==============================] - 0s 16ms/step - loss: 29.1206 - accuracy: 0.9136 - val_loss: 85.6642 - val_accuracy: 0.8676\n",
            "Epoch 15/25\n",
            "7/7 [==============================] - 0s 17ms/step - loss: 217.9632 - accuracy: 0.7904 - val_loss: 75.2656 - val_accuracy: 0.8750\n",
            "Epoch 16/25\n",
            "7/7 [==============================] - 0s 15ms/step - loss: 233.6262 - accuracy: 0.8327 - val_loss: 383.7619 - val_accuracy: 0.7721\n",
            "Epoch 17/25\n",
            "7/7 [==============================] - 0s 15ms/step - loss: 450.9755 - accuracy: 0.7188 - val_loss: 189.7188 - val_accuracy: 0.8162\n",
            "Epoch 18/25\n",
            "7/7 [==============================] - 0s 14ms/step - loss: 116.3431 - accuracy: 0.8511 - val_loss: 86.6644 - val_accuracy: 0.8750\n",
            "Epoch 19/25\n",
            "7/7 [==============================] - 0s 16ms/step - loss: 85.4161 - accuracy: 0.8750 - val_loss: 48.2824 - val_accuracy: 0.8897\n",
            "Epoch 20/25\n",
            "7/7 [==============================] - 0s 14ms/step - loss: 60.8593 - accuracy: 0.8897 - val_loss: 72.8617 - val_accuracy: 0.8750\n",
            "Epoch 21/25\n",
            "7/7 [==============================] - 0s 13ms/step - loss: 64.5584 - accuracy: 0.8805 - val_loss: 39.2590 - val_accuracy: 0.8824\n",
            "Epoch 22/25\n",
            "7/7 [==============================] - 0s 15ms/step - loss: 32.9555 - accuracy: 0.9062 - val_loss: 35.3283 - val_accuracy: 0.9118\n",
            "Epoch 23/25\n",
            "7/7 [==============================] - 0s 16ms/step - loss: 33.6246 - accuracy: 0.9044 - val_loss: 180.1064 - val_accuracy: 0.8162\n",
            "Epoch 24/25\n",
            "7/7 [==============================] - 0s 16ms/step - loss: 543.1309 - accuracy: 0.6875 - val_loss: 570.1337 - val_accuracy: 0.6691\n",
            "Epoch 25/25\n",
            "7/7 [==============================] - 0s 14ms/step - loss: 525.9383 - accuracy: 0.6949 - val_loss: 98.6679 - val_accuracy: 0.8676\n"
          ]
        }
      ]
    },
    {
      "cell_type": "code",
      "source": [
        "plt.plot(history1.history['accuracy'])\n",
        "plt.plot(history1.history['val_accuracy'])\n",
        "plt.title('Model accuracy')\n",
        "plt.ylabel('Accuracy')\n",
        "plt.xlabel('Epoch')\n",
        "plt.legend(['Train', 'Test'], loc='upper left')\n",
        "plt.show()"
      ],
      "metadata": {
        "colab": {
          "base_uri": "https://localhost:8080/",
          "height": 472
        },
        "id": "U_SnpWE0HMcp",
        "outputId": "2871899d-7e56-4e15-cf8f-7e2da00d0055"
      },
      "execution_count": 47,
      "outputs": [
        {
          "output_type": "display_data",
          "data": {
            "text/plain": [
              "<Figure size 640x480 with 1 Axes>"
            ],
            "image/png": "[encoded data removed]"
          },
          "metadata": {}
        }
      ]
    },
    {
      "cell_type": "code",
      "source": [
        "plt.plot(history1.history['loss'])\n",
        "plt.plot(history1.history['val_loss'])\n",
        "plt.title('Model loss')\n",
        "plt.ylabel('Loss')\n",
        "plt.xlabel('Epoch')\n",
        "plt.legend(['Train', 'Test'], loc='upper left')\n",
        "plt.show()"
      ],
      "metadata": {
        "colab": {
          "base_uri": "https://localhost:8080/",
          "height": 472
        },
        "id": "SV1fH2m9J7zT",
        "outputId": "dbaf598d-454d-4e6e-f2f2-39caec8f098f"
      },
      "execution_count": 48,
      "outputs": [
        {
          "output_type": "display_data",
          "data": {
            "text/plain": [
              "<Figure size 640x480 with 1 Axes>"
            ],
            "image/png": "[encoded data removed]"
          },
          "metadata": {}
        }
      ]
    },
    {
      "cell_type": "markdown",
      "source": [
        "**This is an Unrepresentative Dataset. Most probably because of the number of samples in a dataset is too small (680,5)**\n",
        "\n"
      ],
      "metadata": {
        "id": "e2mN0OTkHe8U"
      }
    }
  ]
}